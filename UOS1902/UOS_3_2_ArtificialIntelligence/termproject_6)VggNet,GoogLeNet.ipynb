{
  "nbformat": 4,
  "nbformat_minor": 0,
  "metadata": {
    "colab": {
      "name": "인공지능텀프_6)VggNet,GoogLeNet참고",
      "provenance": [],
      "collapsed_sections": []
    },
    "kernelspec": {
      "name": "python3",
      "display_name": "Python 3"
    },
    "accelerator": "GPU"
  },
  "cells": [
    {
      "cell_type": "markdown",
      "metadata": {
        "id": "sTffnxkbzLbo",
        "colab_type": "text"
      },
      "source": [
        "INPUT -> [CONVi_1 -> RELU -> CONVi_2 -> RELU -> POOL]*3 -> FC -> RELU -> DROPOUT > SOFTMAX<br>\n",
        "CONV1_1 필터 크기는 3x3x1 이고, Stride 는 1x1 이고, 개수는 1개이다.<br> \n",
        "CONV1_2 필터 크기는 3x3x32 이고, Stride 는 1x1 이고, 개수는 1개이다.<br> \n",
        "CONV2_1 필터 크기는 3x3x32 이고, Stride 는 1x1 이고, 개수는 1개이다.<br> \n",
        "CONV2_2 필터 크기는 3x3x64 이고, Stride 는 1x1 이고, 개수는 1개이다.<br> \n",
        "CONV3_1 필터 크기는 3x3x64 이고, Stride 는 1x1 이고, 개수는 1개이다.<br> \n",
        "CONV3_2 필터 크기는 3x3x128 이고, Stride 는 1x1 이고, 개수는 1개이다.<br> \n",
        "POOL 필터 크기는 2x2 이고, Stride는 2x2 이고, MAX POOL을 사용한다.<br> \n"
      ]
    },
    {
      "cell_type": "code",
      "metadata": {
        "id": "EYgfdlY2y3N8",
        "colab_type": "code",
        "outputId": "5a9d759a-caaa-49f9-9efb-8ed318c8d16a",
        "colab": {
          "base_uri": "https://localhost:8080/",
          "height": 65
        }
      },
      "source": [
        "import tensorflow as tf\n",
        "import numpy as np\n",
        "import matplotlib.pyplot as plt\n",
        "from tensorflow.examples.tutorials.mnist import input_data\n",
        "\n",
        "np.random.seed(20160704)\n",
        "tf.set_random_seed(20160704)"
      ],
      "execution_count": 1,
      "outputs": [
        {
          "output_type": "display_data",
          "data": {
            "text/html": [
              "<p style=\"color: red;\">\n",
              "The default version of TensorFlow in Colab will soon switch to TensorFlow 2.x.<br>\n",
              "We recommend you <a href=\"https://www.tensorflow.org/guide/migrate\" target=\"_blank\">upgrade</a> now \n",
              "or ensure your notebook will continue to use TensorFlow 1.x via the <code>%tensorflow_version 1.x</code> magic:\n",
              "<a href=\"https://colab.research.google.com/notebooks/tensorflow_version.ipynb\" target=\"_blank\">more info</a>.</p>\n"
            ],
            "text/plain": [
              "<IPython.core.display.HTML object>"
            ]
          },
          "metadata": {
            "tags": []
          }
        }
      ]
    },
    {
      "cell_type": "markdown",
      "metadata": {
        "id": "mIExlus9y4dK",
        "colab_type": "text"
      },
      "source": [
        "\n",
        "[CNN-02] MNIST 데이터 세트를 준비한다."
      ]
    },
    {
      "cell_type": "code",
      "metadata": {
        "id": "k7xyWm-hy5Ks",
        "colab_type": "code",
        "outputId": "e8bac6b6-b990-4c0a-a3e9-88b790e5209b",
        "colab": {
          "base_uri": "https://localhost:8080/",
          "height": 579
        }
      },
      "source": [
        "mnist = input_data.read_data_sets(\"/tmp/data/\", one_hot=True)"
      ],
      "execution_count": 2,
      "outputs": [
        {
          "output_type": "stream",
          "text": [
            "WARNING:tensorflow:From <ipython-input-2-d651cc53d7d8>:1: read_data_sets (from tensorflow.contrib.learn.python.learn.datasets.mnist) is deprecated and will be removed in a future version.\n",
            "Instructions for updating:\n",
            "Please use alternatives such as official/mnist/dataset.py from tensorflow/models.\n",
            "WARNING:tensorflow:From /usr/local/lib/python3.6/dist-packages/tensorflow_core/contrib/learn/python/learn/datasets/mnist.py:260: maybe_download (from tensorflow.contrib.learn.python.learn.datasets.base) is deprecated and will be removed in a future version.\n",
            "Instructions for updating:\n",
            "Please write your own downloading logic.\n",
            "WARNING:tensorflow:From /usr/local/lib/python3.6/dist-packages/tensorflow_core/contrib/learn/python/learn/datasets/base.py:252: _internal_retry.<locals>.wrap.<locals>.wrapped_fn (from tensorflow.contrib.learn.python.learn.datasets.base) is deprecated and will be removed in a future version.\n",
            "Instructions for updating:\n",
            "Please use urllib or similar directly.\n",
            "Successfully downloaded train-images-idx3-ubyte.gz 9912422 bytes.\n",
            "WARNING:tensorflow:From /usr/local/lib/python3.6/dist-packages/tensorflow_core/contrib/learn/python/learn/datasets/mnist.py:262: extract_images (from tensorflow.contrib.learn.python.learn.datasets.mnist) is deprecated and will be removed in a future version.\n",
            "Instructions for updating:\n",
            "Please use tf.data to implement this functionality.\n",
            "Extracting /tmp/data/train-images-idx3-ubyte.gz\n",
            "Successfully downloaded train-labels-idx1-ubyte.gz 28881 bytes.\n",
            "WARNING:tensorflow:From /usr/local/lib/python3.6/dist-packages/tensorflow_core/contrib/learn/python/learn/datasets/mnist.py:267: extract_labels (from tensorflow.contrib.learn.python.learn.datasets.mnist) is deprecated and will be removed in a future version.\n",
            "Instructions for updating:\n",
            "Please use tf.data to implement this functionality.\n",
            "Extracting /tmp/data/train-labels-idx1-ubyte.gz\n",
            "WARNING:tensorflow:From /usr/local/lib/python3.6/dist-packages/tensorflow_core/contrib/learn/python/learn/datasets/mnist.py:110: dense_to_one_hot (from tensorflow.contrib.learn.python.learn.datasets.mnist) is deprecated and will be removed in a future version.\n",
            "Instructions for updating:\n",
            "Please use tf.one_hot on tensors.\n",
            "Successfully downloaded t10k-images-idx3-ubyte.gz 1648877 bytes.\n",
            "Extracting /tmp/data/t10k-images-idx3-ubyte.gz\n",
            "Successfully downloaded t10k-labels-idx1-ubyte.gz 4542 bytes.\n",
            "Extracting /tmp/data/t10k-labels-idx1-ubyte.gz\n",
            "WARNING:tensorflow:From /usr/local/lib/python3.6/dist-packages/tensorflow_core/contrib/learn/python/learn/datasets/mnist.py:290: DataSet.__init__ (from tensorflow.contrib.learn.python.learn.datasets.mnist) is deprecated and will be removed in a future version.\n",
            "Instructions for updating:\n",
            "Please use alternatives such as official/mnist/dataset.py from tensorflow/models.\n"
          ],
          "name": "stdout"
        }
      ]
    },
    {
      "cell_type": "markdown",
      "metadata": {
        "id": "RtZoqgLAy6LA",
        "colab_type": "text"
      },
      "source": [
        "## CONV1_1과 CONV1_2, POOL"
      ]
    },
    {
      "cell_type": "code",
      "metadata": {
        "id": "jKv68cZ_y7PC",
        "colab_type": "code",
        "colab": {}
      },
      "source": [
        "num_filters1_1 = 1\n",
        "num_filters1_2 = 32\n",
        "\n",
        "x = tf.placeholder(tf.float32, [None, 784])\n",
        "x_image = tf.reshape(x, [-1,28,28,1])\n",
        "########## CONV1_1\n",
        "W_conv1_1 = tf.Variable(tf.truncated_normal([3,3,1,num_filters1_1],\n",
        "                                          stddev=0.1))\n",
        "h_conv1_1 = tf.nn.conv2d(x_image, W_conv1_1,\n",
        "                       strides=[1,1,1,1], padding='SAME')\n",
        "\n",
        "b_conv1_1 = tf.Variable(tf.constant(0.1, shape=[num_filters1_1]))\n",
        "h_conv1_1_cutoff = tf.nn.relu(h_conv1_1 + b_conv1_1)\n",
        "########## CONV1_2\n",
        "W_conv1_2 = tf.Variable(tf.truncated_normal([3,3,1,num_filters1_2],\n",
        "                                          stddev=0.1))\n",
        "h_conv1_2 = tf.nn.conv2d(h_conv1_1_cutoff, W_conv1_2,\n",
        "                       strides=[1,1,1,1], padding='SAME')\n",
        "\n",
        "b_conv1_2 = tf.Variable(tf.constant(0.1, shape=[num_filters1_2]))\n",
        "h_conv1_2_cutoff = tf.nn.relu(h_conv1_2 + b_conv1_2)\n",
        "########## POOL\n",
        "h_pool1 = tf.nn.max_pool(h_conv1_2_cutoff, ksize=[1,2,2,1],\n",
        "                         strides=[1,2,2,1], padding='SAME')"
      ],
      "execution_count": 0,
      "outputs": []
    },
    {
      "cell_type": "markdown",
      "metadata": {
        "id": "Efvgpi27y9GG",
        "colab_type": "text"
      },
      "source": [
        "## CONV2_1과 CONV2_2, POOL"
      ]
    },
    {
      "cell_type": "code",
      "metadata": {
        "id": "0DQ-_A7Iy-Sy",
        "colab_type": "code",
        "colab": {}
      },
      "source": [
        "num_filters2_1 = 32\n",
        "num_filters2_2 = 64\n",
        "########## CONV2_1\n",
        "W_conv2_1 = tf.Variable(tf.truncated_normal([3,3,1,num_filters2_1],\n",
        "                                          stddev=0.1))\n",
        "h_conv2_1 = tf.nn.conv2d(h_pool1, W_conv2_1,\n",
        "                       strides=[1,1,1,1], padding='SAME')\n",
        "\n",
        "b_conv2_1 = tf.Variable(tf.constant(0.1, shape=[num_filters2_1]))\n",
        "h_conv2_1_cutoff = tf.nn.relu(h_conv2_1 + b_conv2_1)\n",
        "########## CONV2_2\n",
        "W_conv2_2 = tf.Variable(tf.truncated_normal([3,3,1,num_filters2_2],\n",
        "                                          stddev=0.1))\n",
        "h_conv2_2 = tf.nn.conv2d(h_conv2_1_cutoff, W_conv2_2,\n",
        "                       strides=[1,1,1,1], padding='SAME')\n",
        "\n",
        "b_conv2_2 = tf.Variable(tf.constant(0.1, shape=[num_filters2_2]))\n",
        "h_conv2_2_cutoff = tf.nn.relu(h_conv2_2 + b_conv2_2)\n",
        "########## POOL\n",
        "h_pool2 = tf.nn.max_pool(h_conv2_2_cutoff, ksize=[1,2,2,1],\n",
        "                         strides=[1,2,2,1], padding='SAME')"
      ],
      "execution_count": 0,
      "outputs": []
    },
    {
      "cell_type": "markdown",
      "metadata": {
        "id": "VGS1iBWpekOd",
        "colab_type": "text"
      },
      "source": [
        "## CONV3_1, CONV3_2, POOL"
      ]
    },
    {
      "cell_type": "code",
      "metadata": {
        "id": "y0dCl6dXe6y9",
        "colab_type": "code",
        "colab": {}
      },
      "source": [
        "num_filters3_1 = 64\n",
        "num_filters3_2 = 128\n",
        "########## CONV3_1\n",
        "W_conv3_1 = tf.Variable(tf.truncated_normal([3,3,1,num_filters3_1],\n",
        "                                          stddev=0.1))\n",
        "h_conv3_1 = tf.nn.conv2d(h_pool2, W_conv3_1,\n",
        "                       strides=[1,1,1,1], padding='SAME')\n",
        "\n",
        "b_conv3_1 = tf.Variable(tf.constant(0.1, shape=[num_filters3_1]))\n",
        "h_conv3_1_cutoff = tf.nn.relu(h_conv3_1 + b_conv3_1)\n",
        "########## CONV3_2\n",
        "W_conv3_2 = tf.Variable(tf.truncated_normal([3,3,1,num_filters3_2],\n",
        "                                          stddev=0.1))\n",
        "h_conv3_2 = tf.nn.conv2d(h_conv3_1_cutoff, W_conv3_2,\n",
        "                       strides=[1,1,1,1], padding='SAME')\n",
        "\n",
        "b_conv3_2 = tf.Variable(tf.constant(0.1, shape=[num_filters3_2]))\n",
        "h_conv3_2_cutoff = tf.nn.relu(h_conv3_2 + b_conv3_2)\n",
        "########## POOL\n",
        "h_pool3 = tf.nn.max_pool(h_conv3_2_cutoff, ksize=[1,2,2,1],\n",
        "                         strides=[1,2,2,1], padding='SAME')"
      ],
      "execution_count": 0,
      "outputs": []
    },
    {
      "cell_type": "markdown",
      "metadata": {
        "id": "MYcgYtXEy_LI",
        "colab_type": "text"
      },
      "source": [
        "\n",
        "[CNN-05] 전 결합층, 드롭아웃 계층, 소프트맥스 함수를 정의한다."
      ]
    },
    {
      "cell_type": "code",
      "metadata": {
        "id": "zueAAAdLzAH-",
        "colab_type": "code",
        "colab": {
          "base_uri": "https://localhost:8080/",
          "height": 73
        },
        "outputId": "3f263dc0-a84a-481f-c248-5e6344a59f93"
      },
      "source": [
        "h_pool3_flat = tf.reshape(h_pool3, [-1, 4*4*num_filters3_2])\n",
        "\n",
        "num_units1 = 4*4*num_filters3_2\n",
        "num_units2 = 1024\n",
        "\n",
        "w3 = tf.Variable(tf.truncated_normal([num_units1, num_units2]))\n",
        "b3 = tf.Variable(tf.constant(0.1, shape=[num_units2]))\n",
        "hidden3 = tf.nn.relu(tf.matmul(h_pool3_flat, w3) + b3)\n",
        "\n",
        "keep_prob = tf.placeholder(tf.float32)\n",
        "hidden3_drop = tf.nn.dropout(hidden3, keep_prob)\n",
        "\n",
        "w0 = tf.Variable(tf.zeros([num_units2, 10]))\n",
        "b0 = tf.Variable(tf.zeros([10]))\n",
        "p = tf.nn.softmax(tf.matmul(hidden3_drop, w0) + b0)"
      ],
      "execution_count": 6,
      "outputs": [
        {
          "output_type": "stream",
          "text": [
            "WARNING:tensorflow:From <ipython-input-6-d710f1aeda68>:11: calling dropout (from tensorflow.python.ops.nn_ops) with keep_prob is deprecated and will be removed in a future version.\n",
            "Instructions for updating:\n",
            "Please use `rate` instead of `keep_prob`. Rate should be set to `rate = 1 - keep_prob`.\n"
          ],
          "name": "stdout"
        }
      ]
    },
    {
      "cell_type": "markdown",
      "metadata": {
        "id": "o__sG5WIzBWk",
        "colab_type": "text"
      },
      "source": [
        "\n",
        "[CNN-06] 오차 함수 loss, 트레이닝 알고리즘 train_step, 정답률 accuracy을 정의한다."
      ]
    },
    {
      "cell_type": "code",
      "metadata": {
        "id": "2w4BVY5czCfJ",
        "colab_type": "code",
        "colab": {}
      },
      "source": [
        "t = tf.placeholder(tf.float32, [None, 10])\n",
        "loss = -tf.reduce_sum(t * tf.log(p))\n",
        "train_step = tf.train.AdamOptimizer(0.0001).minimize(loss)\n",
        "correct_prediction = tf.equal(tf.argmax(p, 1), tf.argmax(t, 1))\n",
        "accuracy = tf.reduce_mean(tf.cast(correct_prediction, tf.float32))"
      ],
      "execution_count": 0,
      "outputs": []
    },
    {
      "cell_type": "markdown",
      "metadata": {
        "id": "Ql3NzzXxzDlN",
        "colab_type": "text"
      },
      "source": [
        "\n",
        "[CNN-07] 세션을 준비하고 Variable을 초기화한다."
      ]
    },
    {
      "cell_type": "code",
      "metadata": {
        "id": "WMKmenyFzEbl",
        "colab_type": "code",
        "outputId": "b770c160-be33-4d54-f642-9495d1b0c6bf",
        "colab": {
          "base_uri": "https://localhost:8080/",
          "height": 93
        }
      },
      "source": [
        "sess = tf.InteractiveSession()\n",
        "sess.run(tf.initialize_all_variables())\n",
        "# saver = tf.train.Saver() saver 필요 없으므로 주석처리"
      ],
      "execution_count": 8,
      "outputs": [
        {
          "output_type": "stream",
          "text": [
            "WARNING:tensorflow:From /usr/local/lib/python3.6/dist-packages/tensorflow_core/python/util/tf_should_use.py:198: initialize_all_variables (from tensorflow.python.ops.variables) is deprecated and will be removed after 2017-03-02.\n",
            "Instructions for updating:\n",
            "Use `tf.global_variables_initializer` instead.\n"
          ],
          "name": "stdout"
        }
      ]
    },
    {
      "cell_type": "markdown",
      "metadata": {
        "id": "0dB-_bU-zFdQ",
        "colab_type": "text"
      },
      "source": [
        "[CNN-08] 파라미터 최적화를 20000회 반복한다.\n",
        "\n",
        "최종적으로 테스트 세트에 대해 약 99%의 정답률을 얻을 수 있다."
      ]
    },
    {
      "cell_type": "code",
      "metadata": {
        "id": "oqDB-vsMzGU9",
        "colab_type": "code",
        "outputId": "ed79f425-158d-4ebf-dc16-b55592d6a609",
        "colab": {
          "base_uri": "https://localhost:8080/",
          "height": 764
        }
      },
      "source": [
        "i = 0\n",
        "for _ in range(20000):\n",
        "    i += 1\n",
        "    batch_xs, batch_ts = mnist.train.next_batch(50)\n",
        "    sess.run(train_step,\n",
        "             feed_dict={x:batch_xs, t:batch_ts, keep_prob:0.5})\n",
        "    if i % 500 == 0:\n",
        "        loss_vals, acc_vals = [], []\n",
        "        for c in range(4):\n",
        "            start = (int)(len(mnist.test.labels) / 4 * c)\n",
        "            end = (int)(len(mnist.test.labels) / 4 * (c+1))\n",
        "            loss_val, acc_val = sess.run([loss, accuracy],\n",
        "                feed_dict={x:mnist.test.images[start:end],\n",
        "                           t:mnist.test.labels[start:end],\n",
        "                           keep_prob:1.0})\n",
        "            loss_vals.append(loss_val)\n",
        "            acc_vals.append(acc_val)\n",
        "        loss_val = np.sum(loss_vals)\n",
        "        acc_val = np.mean(acc_vals)\n",
        "        print ('Step: %d, Loss: %f, Accuracy: %f'\n",
        "               % (i, loss_val, acc_val))\n",
        "        #saver.save(sess, 'cnn_session', global_step=i) saver 필요 없으므로 주석처리"
      ],
      "execution_count": 9,
      "outputs": [
        {
          "output_type": "stream",
          "text": [
            "Step: 500, Loss: 23063.441406, Accuracy: 0.113500\n",
            "Step: 1000, Loss: 23093.640625, Accuracy: 0.097400\n",
            "Step: 1500, Loss: 22939.089844, Accuracy: 0.172300\n",
            "Step: 2000, Loss: 7695.068359, Accuracy: 0.779900\n",
            "Step: 2500, Loss: 5026.540527, Accuracy: 0.851000\n",
            "Step: 3000, Loss: 3825.431396, Accuracy: 0.885800\n",
            "Step: 3500, Loss: 3018.037598, Accuracy: 0.911500\n",
            "Step: 4000, Loss: 2569.554199, Accuracy: 0.922100\n",
            "Step: 4500, Loss: 2213.478760, Accuracy: 0.933700\n",
            "Step: 5000, Loss: 1959.145142, Accuracy: 0.940200\n",
            "Step: 5500, Loss: 1794.832642, Accuracy: 0.946100\n",
            "Step: 6000, Loss: 1570.968384, Accuracy: 0.953600\n",
            "Step: 6500, Loss: 1442.686890, Accuracy: 0.957400\n",
            "Step: 7000, Loss: 1383.531982, Accuracy: 0.958100\n",
            "Step: 7500, Loss: 1291.664917, Accuracy: 0.960100\n",
            "Step: 8000, Loss: 1223.900757, Accuracy: 0.962100\n",
            "Step: 8500, Loss: 1141.617676, Accuracy: 0.965600\n",
            "Step: 9000, Loss: 1050.357666, Accuracy: 0.966300\n",
            "Step: 9500, Loss: 1027.063965, Accuracy: 0.967900\n",
            "Step: 10000, Loss: 981.267883, Accuracy: 0.969000\n",
            "Step: 10500, Loss: 927.156616, Accuracy: 0.970400\n",
            "Step: 11000, Loss: 909.020752, Accuracy: 0.969500\n",
            "Step: 11500, Loss: 880.240112, Accuracy: 0.970200\n",
            "Step: 12000, Loss: 838.720642, Accuracy: 0.972700\n",
            "Step: 12500, Loss: 822.900024, Accuracy: 0.972600\n",
            "Step: 13000, Loss: 787.302795, Accuracy: 0.975200\n",
            "Step: 13500, Loss: 813.353271, Accuracy: 0.972300\n",
            "Step: 14000, Loss: 758.819580, Accuracy: 0.975600\n",
            "Step: 14500, Loss: 742.752197, Accuracy: 0.976700\n",
            "Step: 15000, Loss: 722.477661, Accuracy: 0.976100\n",
            "Step: 15500, Loss: 722.373169, Accuracy: 0.976200\n",
            "Step: 16000, Loss: 725.320740, Accuracy: 0.975300\n",
            "Step: 16500, Loss: 704.670532, Accuracy: 0.977500\n",
            "Step: 17000, Loss: 662.177429, Accuracy: 0.978100\n",
            "Step: 17500, Loss: 663.459595, Accuracy: 0.977400\n",
            "Step: 18000, Loss: 678.219543, Accuracy: 0.977600\n",
            "Step: 18500, Loss: 636.862915, Accuracy: 0.978500\n",
            "Step: 19000, Loss: 623.875610, Accuracy: 0.979100\n",
            "Step: 19500, Loss: 617.312744, Accuracy: 0.979300\n",
            "Step: 20000, Loss: 615.094727, Accuracy: 0.979700\n"
          ],
          "name": "stdout"
        }
      ]
    }
  ]
}