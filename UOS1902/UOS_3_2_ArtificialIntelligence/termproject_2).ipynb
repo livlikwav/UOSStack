{
  "nbformat": 4,
  "nbformat_minor": 0,
  "metadata": {
    "colab": {
      "name": "인공지능텀프_2)단순교재변경코드",
      "provenance": [],
      "collapsed_sections": []
    },
    "kernelspec": {
      "name": "python3",
      "display_name": "Python 3"
    },
    "accelerator": "GPU"
  },
  "cells": [
    {
      "cell_type": "markdown",
      "metadata": {
        "id": "sTffnxkbzLbo",
        "colab_type": "text"
      },
      "source": [
        "INPUT -> [CONV -> RELU -> POOL]*3 -> FC -> RELU -> DROPOUT > SOFTMAX<br>\n",
        "CONV 필터 크기는 3x3 이고, Stride 는 1x1 이고, 3층이며 필터 수는 각각 32개, 64개, 128개이다.<br>\n",
        "POOL 필터 크기는 2x2 이고, Stride는 2x2 이고, MAX POOL을 사용한다.<br> \n"
      ]
    },
    {
      "cell_type": "code",
      "metadata": {
        "id": "EYgfdlY2y3N8",
        "colab_type": "code",
        "outputId": "06aece73-e9bd-4888-c9e0-babb91cb9ad4",
        "colab": {
          "base_uri": "https://localhost:8080/",
          "height": 65
        }
      },
      "source": [
        "import tensorflow as tf\n",
        "import numpy as np\n",
        "import matplotlib.pyplot as plt\n",
        "from tensorflow.examples.tutorials.mnist import input_data\n",
        "\n",
        "np.random.seed(20160704)\n",
        "tf.set_random_seed(20160704)"
      ],
      "execution_count": 0,
      "outputs": [
        {
          "output_type": "display_data",
          "data": {
            "text/html": [
              "<p style=\"color: red;\">\n",
              "The default version of TensorFlow in Colab will soon switch to TensorFlow 2.x.<br>\n",
              "We recommend you <a href=\"https://www.tensorflow.org/guide/migrate\" target=\"_blank\">upgrade</a> now \n",
              "or ensure your notebook will continue to use TensorFlow 1.x via the <code>%tensorflow_version 1.x</code> magic:\n",
              "<a href=\"https://colab.research.google.com/notebooks/tensorflow_version.ipynb\" target=\"_blank\">more info</a>.</p>\n"
            ],
            "text/plain": [
              "<IPython.core.display.HTML object>"
            ]
          },
          "metadata": {
            "tags": []
          }
        }
      ]
    },
    {
      "cell_type": "markdown",
      "metadata": {
        "id": "mIExlus9y4dK",
        "colab_type": "text"
      },
      "source": [
        "\n",
        "[CNN-02] MNIST 데이터 세트를 준비한다."
      ]
    },
    {
      "cell_type": "code",
      "metadata": {
        "id": "k7xyWm-hy5Ks",
        "colab_type": "code",
        "outputId": "4e6af791-256e-476c-abe5-72f61c8a1fd2",
        "colab": {
          "base_uri": "https://localhost:8080/",
          "height": 579
        }
      },
      "source": [
        "mnist = input_data.read_data_sets(\"/tmp/data/\", one_hot=True)"
      ],
      "execution_count": 0,
      "outputs": [
        {
          "output_type": "stream",
          "text": [
            "WARNING:tensorflow:From <ipython-input-2-d651cc53d7d8>:1: read_data_sets (from tensorflow.contrib.learn.python.learn.datasets.mnist) is deprecated and will be removed in a future version.\n",
            "Instructions for updating:\n",
            "Please use alternatives such as official/mnist/dataset.py from tensorflow/models.\n",
            "WARNING:tensorflow:From /usr/local/lib/python3.6/dist-packages/tensorflow_core/contrib/learn/python/learn/datasets/mnist.py:260: maybe_download (from tensorflow.contrib.learn.python.learn.datasets.base) is deprecated and will be removed in a future version.\n",
            "Instructions for updating:\n",
            "Please write your own downloading logic.\n",
            "WARNING:tensorflow:From /usr/local/lib/python3.6/dist-packages/tensorflow_core/contrib/learn/python/learn/datasets/base.py:252: _internal_retry.<locals>.wrap.<locals>.wrapped_fn (from tensorflow.contrib.learn.python.learn.datasets.base) is deprecated and will be removed in a future version.\n",
            "Instructions for updating:\n",
            "Please use urllib or similar directly.\n",
            "Successfully downloaded train-images-idx3-ubyte.gz 9912422 bytes.\n",
            "WARNING:tensorflow:From /usr/local/lib/python3.6/dist-packages/tensorflow_core/contrib/learn/python/learn/datasets/mnist.py:262: extract_images (from tensorflow.contrib.learn.python.learn.datasets.mnist) is deprecated and will be removed in a future version.\n",
            "Instructions for updating:\n",
            "Please use tf.data to implement this functionality.\n",
            "Extracting /tmp/data/train-images-idx3-ubyte.gz\n",
            "Successfully downloaded train-labels-idx1-ubyte.gz 28881 bytes.\n",
            "WARNING:tensorflow:From /usr/local/lib/python3.6/dist-packages/tensorflow_core/contrib/learn/python/learn/datasets/mnist.py:267: extract_labels (from tensorflow.contrib.learn.python.learn.datasets.mnist) is deprecated and will be removed in a future version.\n",
            "Instructions for updating:\n",
            "Please use tf.data to implement this functionality.\n",
            "Extracting /tmp/data/train-labels-idx1-ubyte.gz\n",
            "WARNING:tensorflow:From /usr/local/lib/python3.6/dist-packages/tensorflow_core/contrib/learn/python/learn/datasets/mnist.py:110: dense_to_one_hot (from tensorflow.contrib.learn.python.learn.datasets.mnist) is deprecated and will be removed in a future version.\n",
            "Instructions for updating:\n",
            "Please use tf.one_hot on tensors.\n",
            "Successfully downloaded t10k-images-idx3-ubyte.gz 1648877 bytes.\n",
            "Extracting /tmp/data/t10k-images-idx3-ubyte.gz\n",
            "Successfully downloaded t10k-labels-idx1-ubyte.gz 4542 bytes.\n",
            "Extracting /tmp/data/t10k-labels-idx1-ubyte.gz\n",
            "WARNING:tensorflow:From /usr/local/lib/python3.6/dist-packages/tensorflow_core/contrib/learn/python/learn/datasets/mnist.py:290: DataSet.__init__ (from tensorflow.contrib.learn.python.learn.datasets.mnist) is deprecated and will be removed in a future version.\n",
            "Instructions for updating:\n",
            "Please use alternatives such as official/mnist/dataset.py from tensorflow/models.\n"
          ],
          "name": "stdout"
        }
      ]
    },
    {
      "cell_type": "markdown",
      "metadata": {
        "id": "RtZoqgLAy6LA",
        "colab_type": "text"
      },
      "source": [
        "\n",
        "[CNN-03] 첫 번째 단계의 합성곱 필터와 풀링 계층을 정의한다."
      ]
    },
    {
      "cell_type": "code",
      "metadata": {
        "id": "jKv68cZ_y7PC",
        "colab_type": "code",
        "colab": {}
      },
      "source": [
        "num_filters1 = 32\n",
        "\n",
        "x = tf.placeholder(tf.float32, [None, 784])\n",
        "x_image = tf.reshape(x, [-1,28,28,1])\n",
        "\n",
        "W_conv1 = tf.Variable(tf.truncated_normal([3,3,1,num_filters1],\n",
        "                                          stddev=0.1))\n",
        "h_conv1 = tf.nn.conv2d(x_image, W_conv1,\n",
        "                       strides=[1,1,1,1], padding='SAME')\n",
        "\n",
        "b_conv1 = tf.Variable(tf.constant(0.1, shape=[num_filters1]))\n",
        "h_conv1_cutoff = tf.nn.relu(h_conv1 + b_conv1)\n",
        "\n",
        "h_pool1 = tf.nn.max_pool(h_conv1_cutoff, ksize=[1,2,2,1],\n",
        "                         strides=[1,2,2,1], padding='SAME')"
      ],
      "execution_count": 0,
      "outputs": []
    },
    {
      "cell_type": "markdown",
      "metadata": {
        "id": "Efvgpi27y9GG",
        "colab_type": "text"
      },
      "source": [
        "\n",
        "[CNN-04] 두 번째 단계의 합성곱 필터와 풀링 계층을 정의한다."
      ]
    },
    {
      "cell_type": "code",
      "metadata": {
        "id": "0DQ-_A7Iy-Sy",
        "colab_type": "code",
        "colab": {}
      },
      "source": [
        "num_filters2 = 64\n",
        "\n",
        "W_conv2 = tf.Variable(\n",
        "            tf.truncated_normal([3,3,num_filters1,num_filters2],\n",
        "                                stddev=0.1))\n",
        "h_conv2 = tf.nn.conv2d(h_pool1, W_conv2,\n",
        "                       strides=[1,1,1,1], padding='SAME')\n",
        "\n",
        "b_conv2 = tf.Variable(tf.constant(0.1, shape=[num_filters2]))\n",
        "h_conv2_cutoff = tf.nn.relu(h_conv2 + b_conv2)\n",
        "\n",
        "h_pool2 = tf.nn.max_pool(h_conv2_cutoff, ksize=[1,2,2,1],\n",
        "                         strides=[1,2,2,1], padding='SAME')"
      ],
      "execution_count": 0,
      "outputs": []
    },
    {
      "cell_type": "markdown",
      "metadata": {
        "id": "VGS1iBWpekOd",
        "colab_type": "text"
      },
      "source": [
        "## CONV, POOL 하나씩 추가해준다"
      ]
    },
    {
      "cell_type": "code",
      "metadata": {
        "id": "y0dCl6dXe6y9",
        "colab_type": "code",
        "colab": {}
      },
      "source": [
        "num_filters3 = 128\n",
        "\n",
        "W_conv3 = tf.Variable(\n",
        "            tf.truncated_normal([3,3,num_filters2,num_filters3],\n",
        "                                stddev=0.1))\n",
        "h_conv3 = tf.nn.conv2d(h_pool2, W_conv3,\n",
        "                       strides=[1,1,1,1], padding='SAME')\n",
        "\n",
        "b_conv3 = tf.Variable(tf.constant(0.1, shape=[num_filters3]))\n",
        "h_conv3_cutoff = tf.nn.relu(h_conv3 + b_conv3)\n",
        "\n",
        "h_pool3 = tf.nn.max_pool(h_conv3_cutoff, ksize=[1,2,2,1],\n",
        "                         strides=[1,2,2,1], padding='SAME')"
      ],
      "execution_count": 0,
      "outputs": []
    },
    {
      "cell_type": "markdown",
      "metadata": {
        "id": "MYcgYtXEy_LI",
        "colab_type": "text"
      },
      "source": [
        "\n",
        "[CNN-05] 전 결합층, 드롭아웃 계층, 소프트맥스 함수를 정의한다."
      ]
    },
    {
      "cell_type": "code",
      "metadata": {
        "id": "zueAAAdLzAH-",
        "colab_type": "code",
        "colab": {}
      },
      "source": [
        "h_pool3_flat = tf.reshape(h_pool3, [-1, 4*4*num_filters3])\n",
        "\n",
        "num_units1 = 4*4*num_filters3\n",
        "num_units2 = 1024\n",
        "\n",
        "w3 = tf.Variable(tf.truncated_normal([num_units1, num_units2]))\n",
        "b3 = tf.Variable(tf.constant(0.1, shape=[num_units2]))\n",
        "hidden3 = tf.nn.relu(tf.matmul(h_pool3_flat, w3) + b3)\n",
        "\n",
        "keep_prob = tf.placeholder(tf.float32)\n",
        "hidden3_drop = tf.nn.dropout(hidden3, keep_prob)\n",
        "\n",
        "w0 = tf.Variable(tf.zeros([num_units2, 10]))\n",
        "b0 = tf.Variable(tf.zeros([10]))\n",
        "p = tf.nn.softmax(tf.matmul(hidden3_drop, w0) + b0)"
      ],
      "execution_count": 0,
      "outputs": []
    },
    {
      "cell_type": "markdown",
      "metadata": {
        "id": "o__sG5WIzBWk",
        "colab_type": "text"
      },
      "source": [
        "\n",
        "[CNN-06] 오차 함수 loss, 트레이닝 알고리즘 train_step, 정답률 accuracy을 정의한다."
      ]
    },
    {
      "cell_type": "code",
      "metadata": {
        "id": "2w4BVY5czCfJ",
        "colab_type": "code",
        "colab": {}
      },
      "source": [
        "t = tf.placeholder(tf.float32, [None, 10])\n",
        "loss = -tf.reduce_sum(t * tf.log(p))\n",
        "train_step = tf.train.AdamOptimizer(0.0001).minimize(loss)\n",
        "correct_prediction = tf.equal(tf.argmax(p, 1), tf.argmax(t, 1))\n",
        "accuracy = tf.reduce_mean(tf.cast(correct_prediction, tf.float32))"
      ],
      "execution_count": 0,
      "outputs": []
    },
    {
      "cell_type": "markdown",
      "metadata": {
        "id": "Ql3NzzXxzDlN",
        "colab_type": "text"
      },
      "source": [
        "\n",
        "[CNN-07] 세션을 준비하고 Variable을 초기화한다."
      ]
    },
    {
      "cell_type": "code",
      "metadata": {
        "id": "WMKmenyFzEbl",
        "colab_type": "code",
        "outputId": "690c43c7-83cd-4617-8eae-fd31e47ce312",
        "colab": {
          "base_uri": "https://localhost:8080/",
          "height": 75
        }
      },
      "source": [
        "sess = tf.InteractiveSession()\n",
        "sess.run(tf.initialize_all_variables())\n",
        "# saver = tf.train.Saver() saver 필요 없으므로 주석처리"
      ],
      "execution_count": 0,
      "outputs": [
        {
          "output_type": "stream",
          "text": [
            "/usr/local/lib/python3.6/dist-packages/tensorflow_core/python/client/session.py:1750: UserWarning: An interactive session is already active. This can cause out-of-memory errors in some cases. You must explicitly call `InteractiveSession.close()` to release resources held by the other session(s).\n",
            "  warnings.warn('An interactive session is already active. This can '\n"
          ],
          "name": "stderr"
        }
      ]
    },
    {
      "cell_type": "markdown",
      "metadata": {
        "id": "0dB-_bU-zFdQ",
        "colab_type": "text"
      },
      "source": [
        "[CNN-08] 파라미터 최적화를 20000회 반복한다.\n",
        "\n",
        "최종적으로 테스트 세트에 대해 약 99%의 정답률을 얻을 수 있다."
      ]
    },
    {
      "cell_type": "code",
      "metadata": {
        "id": "oqDB-vsMzGU9",
        "colab_type": "code",
        "outputId": "1908f67d-5834-4f65-9f42-bc4ca31a7f66",
        "colab": {
          "base_uri": "https://localhost:8080/",
          "height": 405
        }
      },
      "source": [
        "i = 0\n",
        "for _ in range(20000):\n",
        "    i += 1\n",
        "    batch_xs, batch_ts = mnist.train.next_batch(50)\n",
        "    sess.run(train_step,\n",
        "             feed_dict={x:batch_xs, t:batch_ts, keep_prob:0.5})\n",
        "    if i % 500 == 0:\n",
        "        loss_vals, acc_vals = [], []\n",
        "        for c in range(4):\n",
        "            start = (int)(len(mnist.test.labels) / 4 * c)\n",
        "            end = (int)(len(mnist.test.labels) / 4 * (c+1))\n",
        "            loss_val, acc_val = sess.run([loss, accuracy],\n",
        "                feed_dict={x:mnist.test.images[start:end],\n",
        "                           t:mnist.test.labels[start:end],\n",
        "                           keep_prob:1.0})\n",
        "            loss_vals.append(loss_val)\n",
        "            acc_vals.append(acc_val)\n",
        "        loss_val = np.sum(loss_vals)\n",
        "        acc_val = np.mean(acc_vals)\n",
        "        print ('Step: %d, Loss: %f, Accuracy: %f'\n",
        "               % (i, loss_val, acc_val))\n",
        "        #saver.save(sess, 'cnn_session', global_step=i) saver 필요 없으므로 주석처리"
      ],
      "execution_count": 0,
      "outputs": [
        {
          "output_type": "error",
          "ename": "KeyboardInterrupt",
          "evalue": "ignored",
          "traceback": [
            "\u001b[0;31m---------------------------------------------------------------------------\u001b[0m",
            "\u001b[0;31mKeyboardInterrupt\u001b[0m                         Traceback (most recent call last)",
            "\u001b[0;32m<ipython-input-18-35f65dd84968>\u001b[0m in \u001b[0;36m<module>\u001b[0;34m()\u001b[0m\n\u001b[1;32m      4\u001b[0m     \u001b[0mbatch_xs\u001b[0m\u001b[0;34m,\u001b[0m \u001b[0mbatch_ts\u001b[0m \u001b[0;34m=\u001b[0m \u001b[0mmnist\u001b[0m\u001b[0;34m.\u001b[0m\u001b[0mtrain\u001b[0m\u001b[0;34m.\u001b[0m\u001b[0mnext_batch\u001b[0m\u001b[0;34m(\u001b[0m\u001b[0;36m50\u001b[0m\u001b[0;34m)\u001b[0m\u001b[0;34m\u001b[0m\u001b[0;34m\u001b[0m\u001b[0m\n\u001b[1;32m      5\u001b[0m     sess.run(train_step,\n\u001b[0;32m----> 6\u001b[0;31m              feed_dict={x:batch_xs, t:batch_ts, keep_prob:0.5})\n\u001b[0m\u001b[1;32m      7\u001b[0m     \u001b[0;32mif\u001b[0m \u001b[0mi\u001b[0m \u001b[0;34m%\u001b[0m \u001b[0;36m500\u001b[0m \u001b[0;34m==\u001b[0m \u001b[0;36m0\u001b[0m\u001b[0;34m:\u001b[0m\u001b[0;34m\u001b[0m\u001b[0;34m\u001b[0m\u001b[0m\n\u001b[1;32m      8\u001b[0m         \u001b[0mloss_vals\u001b[0m\u001b[0;34m,\u001b[0m \u001b[0macc_vals\u001b[0m \u001b[0;34m=\u001b[0m \u001b[0;34m[\u001b[0m\u001b[0;34m]\u001b[0m\u001b[0;34m,\u001b[0m \u001b[0;34m[\u001b[0m\u001b[0;34m]\u001b[0m\u001b[0;34m\u001b[0m\u001b[0;34m\u001b[0m\u001b[0m\n",
            "\u001b[0;32m/usr/local/lib/python3.6/dist-packages/tensorflow_core/python/client/session.py\u001b[0m in \u001b[0;36mrun\u001b[0;34m(self, fetches, feed_dict, options, run_metadata)\u001b[0m\n\u001b[1;32m    954\u001b[0m     \u001b[0;32mtry\u001b[0m\u001b[0;34m:\u001b[0m\u001b[0;34m\u001b[0m\u001b[0;34m\u001b[0m\u001b[0m\n\u001b[1;32m    955\u001b[0m       result = self._run(None, fetches, feed_dict, options_ptr,\n\u001b[0;32m--> 956\u001b[0;31m                          run_metadata_ptr)\n\u001b[0m\u001b[1;32m    957\u001b[0m       \u001b[0;32mif\u001b[0m \u001b[0mrun_metadata\u001b[0m\u001b[0;34m:\u001b[0m\u001b[0;34m\u001b[0m\u001b[0;34m\u001b[0m\u001b[0m\n\u001b[1;32m    958\u001b[0m         \u001b[0mproto_data\u001b[0m \u001b[0;34m=\u001b[0m \u001b[0mtf_session\u001b[0m\u001b[0;34m.\u001b[0m\u001b[0mTF_GetBuffer\u001b[0m\u001b[0;34m(\u001b[0m\u001b[0mrun_metadata_ptr\u001b[0m\u001b[0;34m)\u001b[0m\u001b[0;34m\u001b[0m\u001b[0;34m\u001b[0m\u001b[0m\n",
            "\u001b[0;32m/usr/local/lib/python3.6/dist-packages/tensorflow_core/python/client/session.py\u001b[0m in \u001b[0;36m_run\u001b[0;34m(self, handle, fetches, feed_dict, options, run_metadata)\u001b[0m\n\u001b[1;32m   1178\u001b[0m     \u001b[0;32mif\u001b[0m \u001b[0mfinal_fetches\u001b[0m \u001b[0;32mor\u001b[0m \u001b[0mfinal_targets\u001b[0m \u001b[0;32mor\u001b[0m \u001b[0;34m(\u001b[0m\u001b[0mhandle\u001b[0m \u001b[0;32mand\u001b[0m \u001b[0mfeed_dict_tensor\u001b[0m\u001b[0;34m)\u001b[0m\u001b[0;34m:\u001b[0m\u001b[0;34m\u001b[0m\u001b[0;34m\u001b[0m\u001b[0m\n\u001b[1;32m   1179\u001b[0m       results = self._do_run(handle, final_targets, final_fetches,\n\u001b[0;32m-> 1180\u001b[0;31m                              feed_dict_tensor, options, run_metadata)\n\u001b[0m\u001b[1;32m   1181\u001b[0m     \u001b[0;32melse\u001b[0m\u001b[0;34m:\u001b[0m\u001b[0;34m\u001b[0m\u001b[0;34m\u001b[0m\u001b[0m\n\u001b[1;32m   1182\u001b[0m       \u001b[0mresults\u001b[0m \u001b[0;34m=\u001b[0m \u001b[0;34m[\u001b[0m\u001b[0;34m]\u001b[0m\u001b[0;34m\u001b[0m\u001b[0;34m\u001b[0m\u001b[0m\n",
            "\u001b[0;32m/usr/local/lib/python3.6/dist-packages/tensorflow_core/python/client/session.py\u001b[0m in \u001b[0;36m_do_run\u001b[0;34m(self, handle, target_list, fetch_list, feed_dict, options, run_metadata)\u001b[0m\n\u001b[1;32m   1357\u001b[0m     \u001b[0;32mif\u001b[0m \u001b[0mhandle\u001b[0m \u001b[0;32mis\u001b[0m \u001b[0;32mNone\u001b[0m\u001b[0;34m:\u001b[0m\u001b[0;34m\u001b[0m\u001b[0;34m\u001b[0m\u001b[0m\n\u001b[1;32m   1358\u001b[0m       return self._do_call(_run_fn, feeds, fetches, targets, options,\n\u001b[0;32m-> 1359\u001b[0;31m                            run_metadata)\n\u001b[0m\u001b[1;32m   1360\u001b[0m     \u001b[0;32melse\u001b[0m\u001b[0;34m:\u001b[0m\u001b[0;34m\u001b[0m\u001b[0;34m\u001b[0m\u001b[0m\n\u001b[1;32m   1361\u001b[0m       \u001b[0;32mreturn\u001b[0m \u001b[0mself\u001b[0m\u001b[0;34m.\u001b[0m\u001b[0m_do_call\u001b[0m\u001b[0;34m(\u001b[0m\u001b[0m_prun_fn\u001b[0m\u001b[0;34m,\u001b[0m \u001b[0mhandle\u001b[0m\u001b[0;34m,\u001b[0m \u001b[0mfeeds\u001b[0m\u001b[0;34m,\u001b[0m \u001b[0mfetches\u001b[0m\u001b[0;34m)\u001b[0m\u001b[0;34m\u001b[0m\u001b[0;34m\u001b[0m\u001b[0m\n",
            "\u001b[0;32m/usr/local/lib/python3.6/dist-packages/tensorflow_core/python/client/session.py\u001b[0m in \u001b[0;36m_do_call\u001b[0;34m(self, fn, *args)\u001b[0m\n\u001b[1;32m   1363\u001b[0m   \u001b[0;32mdef\u001b[0m \u001b[0m_do_call\u001b[0m\u001b[0;34m(\u001b[0m\u001b[0mself\u001b[0m\u001b[0;34m,\u001b[0m \u001b[0mfn\u001b[0m\u001b[0;34m,\u001b[0m \u001b[0;34m*\u001b[0m\u001b[0margs\u001b[0m\u001b[0;34m)\u001b[0m\u001b[0;34m:\u001b[0m\u001b[0;34m\u001b[0m\u001b[0;34m\u001b[0m\u001b[0m\n\u001b[1;32m   1364\u001b[0m     \u001b[0;32mtry\u001b[0m\u001b[0;34m:\u001b[0m\u001b[0;34m\u001b[0m\u001b[0;34m\u001b[0m\u001b[0m\n\u001b[0;32m-> 1365\u001b[0;31m       \u001b[0;32mreturn\u001b[0m \u001b[0mfn\u001b[0m\u001b[0;34m(\u001b[0m\u001b[0;34m*\u001b[0m\u001b[0margs\u001b[0m\u001b[0;34m)\u001b[0m\u001b[0;34m\u001b[0m\u001b[0;34m\u001b[0m\u001b[0m\n\u001b[0m\u001b[1;32m   1366\u001b[0m     \u001b[0;32mexcept\u001b[0m \u001b[0merrors\u001b[0m\u001b[0;34m.\u001b[0m\u001b[0mOpError\u001b[0m \u001b[0;32mas\u001b[0m \u001b[0me\u001b[0m\u001b[0;34m:\u001b[0m\u001b[0;34m\u001b[0m\u001b[0;34m\u001b[0m\u001b[0m\n\u001b[1;32m   1367\u001b[0m       \u001b[0mmessage\u001b[0m \u001b[0;34m=\u001b[0m \u001b[0mcompat\u001b[0m\u001b[0;34m.\u001b[0m\u001b[0mas_text\u001b[0m\u001b[0;34m(\u001b[0m\u001b[0me\u001b[0m\u001b[0;34m.\u001b[0m\u001b[0mmessage\u001b[0m\u001b[0;34m)\u001b[0m\u001b[0;34m\u001b[0m\u001b[0;34m\u001b[0m\u001b[0m\n",
            "\u001b[0;32m/usr/local/lib/python3.6/dist-packages/tensorflow_core/python/client/session.py\u001b[0m in \u001b[0;36m_run_fn\u001b[0;34m(feed_dict, fetch_list, target_list, options, run_metadata)\u001b[0m\n\u001b[1;32m   1348\u001b[0m       \u001b[0mself\u001b[0m\u001b[0;34m.\u001b[0m\u001b[0m_extend_graph\u001b[0m\u001b[0;34m(\u001b[0m\u001b[0;34m)\u001b[0m\u001b[0;34m\u001b[0m\u001b[0;34m\u001b[0m\u001b[0m\n\u001b[1;32m   1349\u001b[0m       return self._call_tf_sessionrun(options, feed_dict, fetch_list,\n\u001b[0;32m-> 1350\u001b[0;31m                                       target_list, run_metadata)\n\u001b[0m\u001b[1;32m   1351\u001b[0m \u001b[0;34m\u001b[0m\u001b[0m\n\u001b[1;32m   1352\u001b[0m     \u001b[0;32mdef\u001b[0m \u001b[0m_prun_fn\u001b[0m\u001b[0;34m(\u001b[0m\u001b[0mhandle\u001b[0m\u001b[0;34m,\u001b[0m \u001b[0mfeed_dict\u001b[0m\u001b[0;34m,\u001b[0m \u001b[0mfetch_list\u001b[0m\u001b[0;34m)\u001b[0m\u001b[0;34m:\u001b[0m\u001b[0;34m\u001b[0m\u001b[0;34m\u001b[0m\u001b[0m\n",
            "\u001b[0;32m/usr/local/lib/python3.6/dist-packages/tensorflow_core/python/client/session.py\u001b[0m in \u001b[0;36m_call_tf_sessionrun\u001b[0;34m(self, options, feed_dict, fetch_list, target_list, run_metadata)\u001b[0m\n\u001b[1;32m   1441\u001b[0m     return tf_session.TF_SessionRun_wrapper(self._session, options, feed_dict,\n\u001b[1;32m   1442\u001b[0m                                             \u001b[0mfetch_list\u001b[0m\u001b[0;34m,\u001b[0m \u001b[0mtarget_list\u001b[0m\u001b[0;34m,\u001b[0m\u001b[0;34m\u001b[0m\u001b[0;34m\u001b[0m\u001b[0m\n\u001b[0;32m-> 1443\u001b[0;31m                                             run_metadata)\n\u001b[0m\u001b[1;32m   1444\u001b[0m \u001b[0;34m\u001b[0m\u001b[0m\n\u001b[1;32m   1445\u001b[0m   \u001b[0;32mdef\u001b[0m \u001b[0m_call_tf_sessionprun\u001b[0m\u001b[0;34m(\u001b[0m\u001b[0mself\u001b[0m\u001b[0;34m,\u001b[0m \u001b[0mhandle\u001b[0m\u001b[0;34m,\u001b[0m \u001b[0mfeed_dict\u001b[0m\u001b[0;34m,\u001b[0m \u001b[0mfetch_list\u001b[0m\u001b[0;34m)\u001b[0m\u001b[0;34m:\u001b[0m\u001b[0;34m\u001b[0m\u001b[0;34m\u001b[0m\u001b[0m\n",
            "\u001b[0;31mKeyboardInterrupt\u001b[0m: "
          ]
        }
      ]
    }
  ]
}