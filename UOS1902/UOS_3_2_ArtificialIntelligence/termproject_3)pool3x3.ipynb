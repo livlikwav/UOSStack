{
  "nbformat": 4,
  "nbformat_minor": 0,
  "metadata": {
    "colab": {
      "name": "인공지능텀프_3)POOL의 크기수정",
      "provenance": [],
      "collapsed_sections": []
    },
    "kernelspec": {
      "name": "python3",
      "display_name": "Python 3"
    },
    "accelerator": "GPU"
  },
  "cells": [
    {
      "cell_type": "markdown",
      "metadata": {
        "id": "sTffnxkbzLbo",
        "colab_type": "text"
      },
      "source": [
        "INPUT -> [CONV -> RELU -> POOL]*3 -> FC -> RELU -> DROPOUT > SOFTMAX<br>\n",
        "CONV 필터 크기는 3x3 이고, Stride 는 1x1 이고, 3층이며 필터 수는 각각 32개, 64개, 128개이다.<br>\n",
        "POOL 필터 크기는 3x3 이고, Stride는 2x2 이고, MAX POOL을 사용한다.<br> "
      ]
    },
    {
      "cell_type": "code",
      "metadata": {
        "id": "EYgfdlY2y3N8",
        "colab_type": "code",
        "colab": {}
      },
      "source": [
        "import tensorflow as tf\n",
        "import numpy as np\n",
        "import matplotlib.pyplot as plt\n",
        "from tensorflow.examples.tutorials.mnist import input_data\n",
        "\n",
        "np.random.seed(20160704)\n",
        "tf.set_random_seed(20160704)"
      ],
      "execution_count": 0,
      "outputs": []
    },
    {
      "cell_type": "markdown",
      "metadata": {
        "id": "mIExlus9y4dK",
        "colab_type": "text"
      },
      "source": [
        "\n",
        "[CNN-02] MNIST 데이터 세트를 준비한다."
      ]
    },
    {
      "cell_type": "code",
      "metadata": {
        "id": "k7xyWm-hy5Ks",
        "colab_type": "code",
        "outputId": "06d0e60e-29e8-4407-ea82-968edd3bc9be",
        "colab": {
          "base_uri": "https://localhost:8080/",
          "height": 92
        }
      },
      "source": [
        "mnist = input_data.read_data_sets(\"/tmp/data/\", one_hot=True)"
      ],
      "execution_count": 0,
      "outputs": [
        {
          "output_type": "stream",
          "text": [
            "Extracting /tmp/data/train-images-idx3-ubyte.gz\n",
            "Extracting /tmp/data/train-labels-idx1-ubyte.gz\n",
            "Extracting /tmp/data/t10k-images-idx3-ubyte.gz\n",
            "Extracting /tmp/data/t10k-labels-idx1-ubyte.gz\n"
          ],
          "name": "stdout"
        }
      ]
    },
    {
      "cell_type": "markdown",
      "metadata": {
        "id": "RtZoqgLAy6LA",
        "colab_type": "text"
      },
      "source": [
        "\n",
        "[CNN-03] 첫 번째 단계의 합성곱 필터와 풀링 계층을 정의한다."
      ]
    },
    {
      "cell_type": "code",
      "metadata": {
        "id": "jKv68cZ_y7PC",
        "colab_type": "code",
        "colab": {}
      },
      "source": [
        "num_filters1 = 32\n",
        "\n",
        "x = tf.placeholder(tf.float32, [None, 784])\n",
        "x_image = tf.reshape(x, [-1,28,28,1])\n",
        "\n",
        "W_conv1 = tf.Variable(tf.truncated_normal([3,3,1,num_filters1],\n",
        "                                          stddev=0.1))\n",
        "h_conv1 = tf.nn.conv2d(x_image, W_conv1,\n",
        "                       strides=[1,1,1,1], padding='SAME')\n",
        "\n",
        "b_conv1 = tf.Variable(tf.constant(0.1, shape=[num_filters1]))\n",
        "h_conv1_cutoff = tf.nn.relu(h_conv1 + b_conv1)\n",
        "\n",
        "h_pool1 = tf.nn.max_pool(h_conv1_cutoff, ksize=[1,3,3,1],\n",
        "                         strides=[1,2,2,1], padding='SAME')"
      ],
      "execution_count": 0,
      "outputs": []
    },
    {
      "cell_type": "markdown",
      "metadata": {
        "id": "Efvgpi27y9GG",
        "colab_type": "text"
      },
      "source": [
        "\n",
        "[CNN-04] 두 번째 단계의 합성곱 필터와 풀링 계층을 정의한다."
      ]
    },
    {
      "cell_type": "code",
      "metadata": {
        "id": "0DQ-_A7Iy-Sy",
        "colab_type": "code",
        "colab": {}
      },
      "source": [
        "num_filters2 = 64\n",
        "\n",
        "W_conv2 = tf.Variable(\n",
        "            tf.truncated_normal([3,3,num_filters1,num_filters2],\n",
        "                                stddev=0.1))\n",
        "h_conv2 = tf.nn.conv2d(h_pool1, W_conv2,\n",
        "                       strides=[1,1,1,1], padding='SAME')\n",
        "\n",
        "b_conv2 = tf.Variable(tf.constant(0.1, shape=[num_filters2]))\n",
        "h_conv2_cutoff = tf.nn.relu(h_conv2 + b_conv2)\n",
        "\n",
        "h_pool2 = tf.nn.max_pool(h_conv2_cutoff, ksize=[1,3,3,1],\n",
        "                         strides=[1,2,2,1], padding='SAME')"
      ],
      "execution_count": 0,
      "outputs": []
    },
    {
      "cell_type": "markdown",
      "metadata": {
        "id": "VGS1iBWpekOd",
        "colab_type": "text"
      },
      "source": [
        "## CONV, POOL 하나씩 추가해준다"
      ]
    },
    {
      "cell_type": "code",
      "metadata": {
        "id": "y0dCl6dXe6y9",
        "colab_type": "code",
        "colab": {}
      },
      "source": [
        "num_filters3 = 128\n",
        "\n",
        "W_conv3 = tf.Variable(\n",
        "            tf.truncated_normal([3,3,num_filters2,num_filters3],\n",
        "                                stddev=0.1))\n",
        "h_conv3 = tf.nn.conv2d(h_pool2, W_conv3,\n",
        "                       strides=[1,1,1,1], padding='SAME')\n",
        "\n",
        "b_conv3 = tf.Variable(tf.constant(0.1, shape=[num_filters3]))\n",
        "h_conv3_cutoff = tf.nn.relu(h_conv3 + b_conv3)\n",
        "\n",
        "h_pool3 = tf.nn.max_pool(h_conv3_cutoff, ksize=[1,3,3,1],\n",
        "                         strides=[1,2,2,1], padding='SAME')"
      ],
      "execution_count": 0,
      "outputs": []
    },
    {
      "cell_type": "markdown",
      "metadata": {
        "id": "MYcgYtXEy_LI",
        "colab_type": "text"
      },
      "source": [
        "\n",
        "[CNN-05] 전 결합층, 드롭아웃 계층, 소프트맥스 함수를 정의한다."
      ]
    },
    {
      "cell_type": "code",
      "metadata": {
        "id": "zueAAAdLzAH-",
        "colab_type": "code",
        "colab": {}
      },
      "source": [
        "h_pool3_flat = tf.reshape(h_pool3, [-1, 4*4*num_filters3])\n",
        "\n",
        "num_units1 = 4*4*num_filters3\n",
        "num_units2 = 1024\n",
        "\n",
        "w3 = tf.Variable(tf.truncated_normal([num_units1, num_units2]))\n",
        "b3 = tf.Variable(tf.constant(0.1, shape=[num_units2]))\n",
        "hidden3 = tf.nn.relu(tf.matmul(h_pool3_flat, w3) + b3)\n",
        "\n",
        "keep_prob = tf.placeholder(tf.float32)\n",
        "hidden3_drop = tf.nn.dropout(hidden3, keep_prob)\n",
        "\n",
        "w0 = tf.Variable(tf.zeros([num_units2, 10]))\n",
        "b0 = tf.Variable(tf.zeros([10]))\n",
        "p = tf.nn.softmax(tf.matmul(hidden3_drop, w0) + b0)"
      ],
      "execution_count": 0,
      "outputs": []
    },
    {
      "cell_type": "markdown",
      "metadata": {
        "id": "o__sG5WIzBWk",
        "colab_type": "text"
      },
      "source": [
        "\n",
        "[CNN-06] 오차 함수 loss, 트레이닝 알고리즘 train_step, 정답률 accuracy을 정의한다."
      ]
    },
    {
      "cell_type": "code",
      "metadata": {
        "id": "2w4BVY5czCfJ",
        "colab_type": "code",
        "colab": {}
      },
      "source": [
        "t = tf.placeholder(tf.float32, [None, 10])\n",
        "loss = -tf.reduce_sum(t * tf.log(p))\n",
        "train_step = tf.train.AdamOptimizer(0.0001).minimize(loss)\n",
        "correct_prediction = tf.equal(tf.argmax(p, 1), tf.argmax(t, 1))\n",
        "accuracy = tf.reduce_mean(tf.cast(correct_prediction, tf.float32))"
      ],
      "execution_count": 0,
      "outputs": []
    },
    {
      "cell_type": "markdown",
      "metadata": {
        "id": "Ql3NzzXxzDlN",
        "colab_type": "text"
      },
      "source": [
        "\n",
        "[CNN-07] 세션을 준비하고 Variable을 초기화한다."
      ]
    },
    {
      "cell_type": "code",
      "metadata": {
        "id": "WMKmenyFzEbl",
        "colab_type": "code",
        "outputId": "508ec243-921a-45f9-baf4-4dbd48a3e1b5",
        "colab": {
          "base_uri": "https://localhost:8080/",
          "height": 75
        }
      },
      "source": [
        "sess = tf.InteractiveSession()\n",
        "sess.run(tf.initialize_all_variables())\n",
        "# saver = tf.train.Saver() saver 필요 없으므로 주석처리"
      ],
      "execution_count": 0,
      "outputs": [
        {
          "output_type": "stream",
          "text": [
            "/usr/local/lib/python3.6/dist-packages/tensorflow_core/python/client/session.py:1750: UserWarning: An interactive session is already active. This can cause out-of-memory errors in some cases. You must explicitly call `InteractiveSession.close()` to release resources held by the other session(s).\n",
            "  warnings.warn('An interactive session is already active. This can '\n"
          ],
          "name": "stderr"
        }
      ]
    },
    {
      "cell_type": "markdown",
      "metadata": {
        "id": "0dB-_bU-zFdQ",
        "colab_type": "text"
      },
      "source": [
        "[CNN-08] 파라미터 최적화를 20000회 반복한다.\n",
        "\n",
        "최종적으로 테스트 세트에 대해 약 99%의 정답률을 얻을 수 있다."
      ]
    },
    {
      "cell_type": "code",
      "metadata": {
        "id": "oqDB-vsMzGU9",
        "colab_type": "code",
        "outputId": "192b47fa-abdb-4f92-dba0-17331755b2ce",
        "colab": {
          "base_uri": "https://localhost:8080/",
          "height": 764
        }
      },
      "source": [
        "i = 0\n",
        "for _ in range(20000):\n",
        "    i += 1\n",
        "    batch_xs, batch_ts = mnist.train.next_batch(50)\n",
        "    sess.run(train_step,\n",
        "             feed_dict={x:batch_xs, t:batch_ts, keep_prob:0.5})\n",
        "    if i % 500 == 0:\n",
        "        loss_vals, acc_vals = [], []\n",
        "        for c in range(4):\n",
        "            start = (int)(len(mnist.test.labels) / 4 * c)\n",
        "            end = (int)(len(mnist.test.labels) / 4 * (c+1))\n",
        "            loss_val, acc_val = sess.run([loss, accuracy],\n",
        "                feed_dict={x:mnist.test.images[start:end],\n",
        "                           t:mnist.test.labels[start:end],\n",
        "                           keep_prob:1.0})\n",
        "            loss_vals.append(loss_val)\n",
        "            acc_vals.append(acc_val)\n",
        "        loss_val = np.sum(loss_vals)\n",
        "        acc_val = np.mean(acc_vals)\n",
        "        print ('Step: %d, Loss: %f, Accuracy: %f'\n",
        "               % (i, loss_val, acc_val))\n",
        "        #saver.save(sess, 'cnn_session', global_step=i) saver 필요 없으므로 주석처리"
      ],
      "execution_count": 0,
      "outputs": [
        {
          "output_type": "stream",
          "text": [
            "Step: 500, Loss: 1827.890137, Accuracy: 0.945800\n",
            "Step: 1000, Loss: 917.305359, Accuracy: 0.970900\n",
            "Step: 1500, Loss: 737.673950, Accuracy: 0.975100\n",
            "Step: 2000, Loss: 602.606384, Accuracy: 0.978700\n",
            "Step: 2500, Loss: 548.882446, Accuracy: 0.982100\n",
            "Step: 3000, Loss: 507.734314, Accuracy: 0.982700\n",
            "Step: 3500, Loss: 435.700195, Accuracy: 0.984500\n",
            "Step: 4000, Loss: 434.273041, Accuracy: 0.985300\n",
            "Step: 4500, Loss: 382.583435, Accuracy: 0.986400\n",
            "Step: 5000, Loss: 375.800079, Accuracy: 0.986200\n",
            "Step: 5500, Loss: 356.439880, Accuracy: 0.987700\n",
            "Step: 6000, Loss: 299.028717, Accuracy: 0.989300\n",
            "Step: 6500, Loss: 276.727356, Accuracy: 0.990000\n",
            "Step: 7000, Loss: 366.474670, Accuracy: 0.988000\n",
            "Step: 7500, Loss: 309.766602, Accuracy: 0.988500\n",
            "Step: 8000, Loss: 330.614105, Accuracy: 0.988000\n",
            "Step: 8500, Loss: 257.149261, Accuracy: 0.990600\n",
            "Step: 9000, Loss: 252.673569, Accuracy: 0.990900\n",
            "Step: 9500, Loss: 263.249634, Accuracy: 0.990300\n",
            "Step: 10000, Loss: 278.231049, Accuracy: 0.990100\n",
            "Step: 10500, Loss: 241.033356, Accuracy: 0.991600\n",
            "Step: 11000, Loss: 252.993011, Accuracy: 0.991100\n",
            "Step: 11500, Loss: 262.320038, Accuracy: 0.990700\n",
            "Step: 12000, Loss: 253.016205, Accuracy: 0.990700\n",
            "Step: 12500, Loss: 261.096802, Accuracy: 0.990900\n",
            "Step: 13000, Loss: 241.358994, Accuracy: 0.991700\n",
            "Step: 13500, Loss: 275.054901, Accuracy: 0.991200\n",
            "Step: 14000, Loss: 271.393738, Accuracy: 0.990800\n",
            "Step: 14500, Loss: 201.894043, Accuracy: 0.992600\n",
            "Step: 15000, Loss: 242.323471, Accuracy: 0.991300\n",
            "Step: 15500, Loss: 290.191956, Accuracy: 0.989400\n",
            "Step: 16000, Loss: 295.437256, Accuracy: 0.988900\n",
            "Step: 16500, Loss: 233.381653, Accuracy: 0.991300\n",
            "Step: 17000, Loss: 247.970978, Accuracy: 0.991700\n",
            "Step: 17500, Loss: 217.136627, Accuracy: 0.993200\n",
            "Step: 18000, Loss: 206.154633, Accuracy: 0.992700\n",
            "Step: 18500, Loss: 236.579712, Accuracy: 0.991400\n",
            "Step: 19000, Loss: 293.702118, Accuracy: 0.989900\n",
            "Step: 19500, Loss: 208.520081, Accuracy: 0.992500\n",
            "Step: 20000, Loss: 233.135422, Accuracy: 0.992100\n"
          ],
          "name": "stdout"
        }
      ]
    }
  ]
}