{
  "nbformat": 4,
  "nbformat_minor": 0,
  "metadata": {
    "colab": {
      "name": "인공지능텀프_7)AllConvolutionalNet",
      "provenance": [],
      "collapsed_sections": []
    },
    "kernelspec": {
      "name": "python3",
      "display_name": "Python 3"
    },
    "accelerator": "GPU"
  },
  "cells": [
    {
      "cell_type": "markdown",
      "metadata": {
        "id": "sTffnxkbzLbo",
        "colab_type": "text"
      },
      "source": [
        "INPUT -> [CONV -> RELU]*3 -> FC -> RELU -> DROPOUT > SOFTMAX<br>\n",
        "CONV 필터 크기는 3x3 이고, Stride 는 2x2 이고, 3층이며 필터 수는 각각 32개, 64개이다.<br>\n",
        "POOLING은 사용하지 않는다"
      ]
    },
    {
      "cell_type": "code",
      "metadata": {
        "id": "EYgfdlY2y3N8",
        "colab_type": "code",
        "outputId": "c6aba661-b63d-489e-f626-71a4fa0cc43f",
        "colab": {
          "base_uri": "https://localhost:8080/",
          "height": 65
        }
      },
      "source": [
        "import tensorflow as tf\n",
        "import numpy as np\n",
        "import matplotlib.pyplot as plt\n",
        "from tensorflow.examples.tutorials.mnist import input_data\n",
        "\n",
        "np.random.seed(20160704)\n",
        "tf.set_random_seed(20160704)"
      ],
      "execution_count": 1,
      "outputs": [
        {
          "output_type": "display_data",
          "data": {
            "text/html": [
              "<p style=\"color: red;\">\n",
              "The default version of TensorFlow in Colab will soon switch to TensorFlow 2.x.<br>\n",
              "We recommend you <a href=\"https://www.tensorflow.org/guide/migrate\" target=\"_blank\">upgrade</a> now \n",
              "or ensure your notebook will continue to use TensorFlow 1.x via the <code>%tensorflow_version 1.x</code> magic:\n",
              "<a href=\"https://colab.research.google.com/notebooks/tensorflow_version.ipynb\" target=\"_blank\">more info</a>.</p>\n"
            ],
            "text/plain": [
              "<IPython.core.display.HTML object>"
            ]
          },
          "metadata": {
            "tags": []
          }
        }
      ]
    },
    {
      "cell_type": "markdown",
      "metadata": {
        "id": "mIExlus9y4dK",
        "colab_type": "text"
      },
      "source": [
        "\n",
        "[CNN-02] MNIST 데이터 세트를 준비한다."
      ]
    },
    {
      "cell_type": "code",
      "metadata": {
        "id": "k7xyWm-hy5Ks",
        "colab_type": "code",
        "outputId": "69a42da4-4357-45e7-88d5-c8f17a9c0187",
        "colab": {
          "base_uri": "https://localhost:8080/",
          "height": 579
        }
      },
      "source": [
        "mnist = input_data.read_data_sets(\"/tmp/data/\", one_hot=True)"
      ],
      "execution_count": 2,
      "outputs": [
        {
          "output_type": "stream",
          "text": [
            "WARNING:tensorflow:From <ipython-input-2-d651cc53d7d8>:1: read_data_sets (from tensorflow.contrib.learn.python.learn.datasets.mnist) is deprecated and will be removed in a future version.\n",
            "Instructions for updating:\n",
            "Please use alternatives such as official/mnist/dataset.py from tensorflow/models.\n",
            "WARNING:tensorflow:From /usr/local/lib/python3.6/dist-packages/tensorflow_core/contrib/learn/python/learn/datasets/mnist.py:260: maybe_download (from tensorflow.contrib.learn.python.learn.datasets.base) is deprecated and will be removed in a future version.\n",
            "Instructions for updating:\n",
            "Please write your own downloading logic.\n",
            "WARNING:tensorflow:From /usr/local/lib/python3.6/dist-packages/tensorflow_core/contrib/learn/python/learn/datasets/base.py:252: _internal_retry.<locals>.wrap.<locals>.wrapped_fn (from tensorflow.contrib.learn.python.learn.datasets.base) is deprecated and will be removed in a future version.\n",
            "Instructions for updating:\n",
            "Please use urllib or similar directly.\n",
            "Successfully downloaded train-images-idx3-ubyte.gz 9912422 bytes.\n",
            "WARNING:tensorflow:From /usr/local/lib/python3.6/dist-packages/tensorflow_core/contrib/learn/python/learn/datasets/mnist.py:262: extract_images (from tensorflow.contrib.learn.python.learn.datasets.mnist) is deprecated and will be removed in a future version.\n",
            "Instructions for updating:\n",
            "Please use tf.data to implement this functionality.\n",
            "Extracting /tmp/data/train-images-idx3-ubyte.gz\n",
            "Successfully downloaded train-labels-idx1-ubyte.gz 28881 bytes.\n",
            "WARNING:tensorflow:From /usr/local/lib/python3.6/dist-packages/tensorflow_core/contrib/learn/python/learn/datasets/mnist.py:267: extract_labels (from tensorflow.contrib.learn.python.learn.datasets.mnist) is deprecated and will be removed in a future version.\n",
            "Instructions for updating:\n",
            "Please use tf.data to implement this functionality.\n",
            "Extracting /tmp/data/train-labels-idx1-ubyte.gz\n",
            "WARNING:tensorflow:From /usr/local/lib/python3.6/dist-packages/tensorflow_core/contrib/learn/python/learn/datasets/mnist.py:110: dense_to_one_hot (from tensorflow.contrib.learn.python.learn.datasets.mnist) is deprecated and will be removed in a future version.\n",
            "Instructions for updating:\n",
            "Please use tf.one_hot on tensors.\n",
            "Successfully downloaded t10k-images-idx3-ubyte.gz 1648877 bytes.\n",
            "Extracting /tmp/data/t10k-images-idx3-ubyte.gz\n",
            "Successfully downloaded t10k-labels-idx1-ubyte.gz 4542 bytes.\n",
            "Extracting /tmp/data/t10k-labels-idx1-ubyte.gz\n",
            "WARNING:tensorflow:From /usr/local/lib/python3.6/dist-packages/tensorflow_core/contrib/learn/python/learn/datasets/mnist.py:290: DataSet.__init__ (from tensorflow.contrib.learn.python.learn.datasets.mnist) is deprecated and will be removed in a future version.\n",
            "Instructions for updating:\n",
            "Please use alternatives such as official/mnist/dataset.py from tensorflow/models.\n"
          ],
          "name": "stdout"
        }
      ]
    },
    {
      "cell_type": "markdown",
      "metadata": {
        "id": "RtZoqgLAy6LA",
        "colab_type": "text"
      },
      "source": [
        "\n",
        "[CNN-03] 첫 번째 단계의 합성곱 필터와 풀링 계층을 정의한다."
      ]
    },
    {
      "cell_type": "code",
      "metadata": {
        "id": "jKv68cZ_y7PC",
        "colab_type": "code",
        "colab": {}
      },
      "source": [
        "num_filters1 = 32\n",
        "\n",
        "x = tf.placeholder(tf.float32, [None, 784])\n",
        "x_image = tf.reshape(x, [-1,28,28,1])\n",
        "\n",
        "W_conv1 = tf.Variable(tf.truncated_normal([3,3,1,num_filters1],\n",
        "                                          stddev=0.1))\n",
        "h_conv1 = tf.nn.conv2d(x_image, W_conv1,\n",
        "                       strides=[1,2,2,1], padding='SAME')\n",
        "\n",
        "b_conv1 = tf.Variable(tf.constant(0.1, shape=[num_filters1]))\n",
        "h_conv1_cutoff = tf.nn.relu(h_conv1 + b_conv1)"
      ],
      "execution_count": 0,
      "outputs": []
    },
    {
      "cell_type": "markdown",
      "metadata": {
        "id": "Efvgpi27y9GG",
        "colab_type": "text"
      },
      "source": [
        "\n",
        "[CNN-04] 두 번째 단계의 합성곱 필터와 풀링 계층을 정의한다."
      ]
    },
    {
      "cell_type": "code",
      "metadata": {
        "id": "0DQ-_A7Iy-Sy",
        "colab_type": "code",
        "colab": {}
      },
      "source": [
        "num_filters2 = 64\n",
        "\n",
        "W_conv2 = tf.Variable(\n",
        "            tf.truncated_normal([3,3,num_filters1,num_filters2],\n",
        "                                stddev=0.1))\n",
        "h_conv2 = tf.nn.conv2d(h_conv1_cutoff, W_conv2,\n",
        "                       strides=[1,2,2,1], padding='SAME')\n",
        "\n",
        "b_conv2 = tf.Variable(tf.constant(0.1, shape=[num_filters2]))\n",
        "h_conv2_cutoff = tf.nn.relu(h_conv2 + b_conv2)"
      ],
      "execution_count": 0,
      "outputs": []
    },
    {
      "cell_type": "markdown",
      "metadata": {
        "id": "VGS1iBWpekOd",
        "colab_type": "text"
      },
      "source": [
        "## CONV, POOL 하나씩 추가해준다"
      ]
    },
    {
      "cell_type": "code",
      "metadata": {
        "id": "y0dCl6dXe6y9",
        "colab_type": "code",
        "colab": {}
      },
      "source": [
        "num_filters3 = 128\n",
        "\n",
        "W_conv3 = tf.Variable(\n",
        "            tf.truncated_normal([3,3,num_filters2,num_filters3],\n",
        "                                stddev=0.1))\n",
        "h_conv3 = tf.nn.conv2d(h_conv2_cutoff, W_conv3,\n",
        "                       strides=[1,2,2,1], padding='SAME')\n",
        "\n",
        "b_conv3 = tf.Variable(tf.constant(0.1, shape=[num_filters3]))\n",
        "h_conv3_cutoff = tf.nn.relu(h_conv3 + b_conv3)"
      ],
      "execution_count": 0,
      "outputs": []
    },
    {
      "cell_type": "markdown",
      "metadata": {
        "id": "MYcgYtXEy_LI",
        "colab_type": "text"
      },
      "source": [
        "\n",
        "[CNN-05] 전 결합층, 드롭아웃 계층, 소프트맥스 함수를 정의한다."
      ]
    },
    {
      "cell_type": "code",
      "metadata": {
        "id": "zueAAAdLzAH-",
        "colab_type": "code",
        "colab": {
          "base_uri": "https://localhost:8080/",
          "height": 73
        },
        "outputId": "aa64169a-a1ea-4cec-fe81-9cce1abe59a5"
      },
      "source": [
        "h_conv3_cutoff_flat = tf.reshape(h_conv3_cutoff, [-1, 4*4*num_filters3])\n",
        "\n",
        "num_units1 = 4*4*num_filters3\n",
        "num_units2 = 1024\n",
        "\n",
        "w3 = tf.Variable(tf.truncated_normal([num_units1, num_units2]))\n",
        "b3 = tf.Variable(tf.constant(0.1, shape=[num_units2]))\n",
        "hidden3 = tf.nn.relu(tf.matmul(h_conv3_cutoff_flat, w3) + b3)\n",
        "\n",
        "keep_prob = tf.placeholder(tf.float32)\n",
        "hidden3_drop = tf.nn.dropout(hidden3, keep_prob)\n",
        "\n",
        "w0 = tf.Variable(tf.zeros([num_units2, 10]))\n",
        "b0 = tf.Variable(tf.zeros([10]))\n",
        "p = tf.nn.softmax(tf.matmul(hidden3_drop, w0) + b0)"
      ],
      "execution_count": 6,
      "outputs": [
        {
          "output_type": "stream",
          "text": [
            "WARNING:tensorflow:From <ipython-input-6-20e4b84d653c>:11: calling dropout (from tensorflow.python.ops.nn_ops) with keep_prob is deprecated and will be removed in a future version.\n",
            "Instructions for updating:\n",
            "Please use `rate` instead of `keep_prob`. Rate should be set to `rate = 1 - keep_prob`.\n"
          ],
          "name": "stdout"
        }
      ]
    },
    {
      "cell_type": "markdown",
      "metadata": {
        "id": "o__sG5WIzBWk",
        "colab_type": "text"
      },
      "source": [
        "\n",
        "[CNN-06] 오차 함수 loss, 트레이닝 알고리즘 train_step, 정답률 accuracy을 정의한다."
      ]
    },
    {
      "cell_type": "code",
      "metadata": {
        "id": "2w4BVY5czCfJ",
        "colab_type": "code",
        "colab": {}
      },
      "source": [
        "t = tf.placeholder(tf.float32, [None, 10])\n",
        "loss = -tf.reduce_sum(t * tf.log(p))\n",
        "train_step = tf.train.AdamOptimizer(0.0001).minimize(loss)\n",
        "correct_prediction = tf.equal(tf.argmax(p, 1), tf.argmax(t, 1))\n",
        "accuracy = tf.reduce_mean(tf.cast(correct_prediction, tf.float32))"
      ],
      "execution_count": 0,
      "outputs": []
    },
    {
      "cell_type": "markdown",
      "metadata": {
        "id": "Ql3NzzXxzDlN",
        "colab_type": "text"
      },
      "source": [
        "\n",
        "[CNN-07] 세션을 준비하고 Variable을 초기화한다."
      ]
    },
    {
      "cell_type": "code",
      "metadata": {
        "id": "WMKmenyFzEbl",
        "colab_type": "code",
        "outputId": "15b33cf1-9fb2-4e68-f1cd-dffebc399bea",
        "colab": {
          "base_uri": "https://localhost:8080/",
          "height": 93
        }
      },
      "source": [
        "sess = tf.InteractiveSession()\n",
        "sess.run(tf.initialize_all_variables())\n",
        "# saver = tf.train.Saver() saver 필요 없으므로 주석처리"
      ],
      "execution_count": 8,
      "outputs": [
        {
          "output_type": "stream",
          "text": [
            "WARNING:tensorflow:From /usr/local/lib/python3.6/dist-packages/tensorflow_core/python/util/tf_should_use.py:198: initialize_all_variables (from tensorflow.python.ops.variables) is deprecated and will be removed after 2017-03-02.\n",
            "Instructions for updating:\n",
            "Use `tf.global_variables_initializer` instead.\n"
          ],
          "name": "stdout"
        }
      ]
    },
    {
      "cell_type": "markdown",
      "metadata": {
        "id": "0dB-_bU-zFdQ",
        "colab_type": "text"
      },
      "source": [
        "[CNN-08] 파라미터 최적화를 20000회 반복한다.\n",
        "\n",
        "최종적으로 테스트 세트에 대해 약 99%의 정답률을 얻을 수 있다."
      ]
    },
    {
      "cell_type": "code",
      "metadata": {
        "id": "oqDB-vsMzGU9",
        "colab_type": "code",
        "outputId": "c4e46c6c-bb58-4fa0-d17a-dd5dc74d4419",
        "colab": {
          "base_uri": "https://localhost:8080/",
          "height": 764
        }
      },
      "source": [
        "i = 0\n",
        "for _ in range(20000):\n",
        "    i += 1\n",
        "    batch_xs, batch_ts = mnist.train.next_batch(50)\n",
        "    sess.run(train_step,\n",
        "             feed_dict={x:batch_xs, t:batch_ts, keep_prob:0.5})\n",
        "    if i % 500 == 0:\n",
        "        loss_vals, acc_vals = [], []\n",
        "        for c in range(4):\n",
        "            start = (int)(len(mnist.test.labels) / 4 * c)\n",
        "            end = (int)(len(mnist.test.labels) / 4 * (c+1))\n",
        "            loss_val, acc_val = sess.run([loss, accuracy],\n",
        "                feed_dict={x:mnist.test.images[start:end],\n",
        "                           t:mnist.test.labels[start:end],\n",
        "                           keep_prob:1.0})\n",
        "            loss_vals.append(loss_val)\n",
        "            acc_vals.append(acc_val)\n",
        "        loss_val = np.sum(loss_vals)\n",
        "        acc_val = np.mean(acc_vals)\n",
        "        print ('Step: %d, Loss: %f, Accuracy: %f'\n",
        "               % (i, loss_val, acc_val))\n",
        "        #saver.save(sess, 'cnn_session', global_step=i) saver 필요 없으므로 주석처리"
      ],
      "execution_count": 9,
      "outputs": [
        {
          "output_type": "stream",
          "text": [
            "Step: 500, Loss: 2485.467529, Accuracy: 0.924000\n",
            "Step: 1000, Loss: 1741.250732, Accuracy: 0.948600\n",
            "Step: 1500, Loss: 1358.299316, Accuracy: 0.959400\n",
            "Step: 2000, Loss: 1162.624023, Accuracy: 0.963900\n",
            "Step: 2500, Loss: 1096.795410, Accuracy: 0.967200\n",
            "Step: 3000, Loss: 981.356812, Accuracy: 0.968600\n",
            "Step: 3500, Loss: 834.316772, Accuracy: 0.974100\n",
            "Step: 4000, Loss: 795.587402, Accuracy: 0.975500\n",
            "Step: 4500, Loss: 722.895264, Accuracy: 0.977000\n",
            "Step: 5000, Loss: 706.344238, Accuracy: 0.976500\n",
            "Step: 5500, Loss: 699.070007, Accuracy: 0.977000\n",
            "Step: 6000, Loss: 615.580994, Accuracy: 0.980500\n",
            "Step: 6500, Loss: 598.287354, Accuracy: 0.980600\n",
            "Step: 7000, Loss: 628.060364, Accuracy: 0.980900\n",
            "Step: 7500, Loss: 584.958496, Accuracy: 0.981100\n",
            "Step: 8000, Loss: 603.274231, Accuracy: 0.980900\n",
            "Step: 8500, Loss: 506.202881, Accuracy: 0.983600\n",
            "Step: 9000, Loss: 484.459778, Accuracy: 0.984400\n",
            "Step: 9500, Loss: 552.302979, Accuracy: 0.982300\n",
            "Step: 10000, Loss: 482.846588, Accuracy: 0.983700\n",
            "Step: 10500, Loss: 513.089172, Accuracy: 0.983800\n",
            "Step: 11000, Loss: 451.384369, Accuracy: 0.985500\n",
            "Step: 11500, Loss: 466.903931, Accuracy: 0.984300\n",
            "Step: 12000, Loss: 470.313599, Accuracy: 0.985300\n",
            "Step: 12500, Loss: 466.324005, Accuracy: 0.984500\n",
            "Step: 13000, Loss: 461.448517, Accuracy: 0.985500\n",
            "Step: 13500, Loss: 437.905518, Accuracy: 0.985600\n",
            "Step: 14000, Loss: 443.259766, Accuracy: 0.985400\n",
            "Step: 14500, Loss: 421.411987, Accuracy: 0.986100\n",
            "Step: 15000, Loss: 417.355408, Accuracy: 0.986500\n",
            "Step: 15500, Loss: 406.815582, Accuracy: 0.985600\n",
            "Step: 16000, Loss: 437.808838, Accuracy: 0.985100\n",
            "Step: 16500, Loss: 401.181305, Accuracy: 0.987100\n",
            "Step: 17000, Loss: 460.554901, Accuracy: 0.985200\n",
            "Step: 17500, Loss: 381.053406, Accuracy: 0.986300\n",
            "Step: 18000, Loss: 379.854187, Accuracy: 0.986900\n",
            "Step: 18500, Loss: 418.111115, Accuracy: 0.986000\n",
            "Step: 19000, Loss: 398.692871, Accuracy: 0.986800\n",
            "Step: 19500, Loss: 380.208282, Accuracy: 0.985800\n",
            "Step: 20000, Loss: 416.816406, Accuracy: 0.986500\n"
          ],
          "name": "stdout"
        }
      ]
    }
  ]
}