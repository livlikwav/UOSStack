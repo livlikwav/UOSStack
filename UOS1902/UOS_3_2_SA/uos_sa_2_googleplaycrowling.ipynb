{
 "cells": [
  {
   "cell_type": "markdown",
   "metadata": {},
   "source": [
    "현호가 공부하라함 Sellenium / Google Play Crowling\n",
    "===================================\n",
    "\n",
    "> 참고 <https://beomi.github.io/2017/02/27/HowToMakeWebCrawler-With-Selenium/>"
   ]
  },
  {
   "cell_type": "code",
   "execution_count": 42,
   "metadata": {},
   "outputs": [],
   "source": [
    "from selenium import webdriver"
   ]
  },
  {
   "cell_type": "code",
   "execution_count": 43,
   "metadata": {},
   "outputs": [],
   "source": [
    "# Chrome 의 경우 아까받은 chrome driver의 위치를 지정해준다\n",
    "driver = webdriver.Chrome('C:\\\\Users\\\\LG gram\\\\forstudy\\\\uosSA\\\\chromedriver')"
   ]
  },
  {
   "cell_type": "code",
   "execution_count": 44,
   "metadata": {},
   "outputs": [],
   "source": [
    "driver.implicitly_wait(3)"
   ]
  },
  {
   "cell_type": "code",
   "execution_count": 45,
   "metadata": {},
   "outputs": [],
   "source": [
    "#url에 접근한다\n",
    "driver.get('https://google.com')"
   ]
  },
  {
   "cell_type": "markdown",
   "metadata": {},
   "source": [
    "메모\n",
    "=========\n",
    "Selenium은 driver객체를 통해 여러가지 메소드를 제공한다.\n",
    "\n",
    "URL에 접근하는 api,\n",
    "\n",
    "get(‘http://url.com’)\n",
    "페이지의 단일 element에 접근하는 api,\n",
    "\n",
    "find_element_by_name(‘HTML_name’)\n",
    "find_element_by_id(‘HTML_id’)\n",
    "find_element_by_xpath(‘/html/body/some/xpath’)\n",
    "페이지의 여러 elements에 접근하는 api 등이 있다.\n",
    "\n",
    "find_element_by_css_selector(‘#css > div.selector’)\n",
    "find_element_by_class_name(‘some_class_name’)\n",
    "find_element_by_tag_name(‘h1’)\n",
    "위 메소드들을 활용시 HTML을 브라우저에서 파싱해주기 때문에 굳이 Python와 BeautifulSoup을 사용하지 않아도 된다.\n",
    "\n",
    "하지만 Selenium에 내장된 함수만 사용가능하기 때문에 좀더 사용이 편리한 soup객체를 이용하려면 driver.page_source API를 이용해 현재 렌더링 된 페이지의 Elements를 모두 가져올 수 있다."
   ]
  },
  {
   "cell_type": "code",
   "execution_count": 26,
   "metadata": {},
   "outputs": [],
   "source": [
    "# 네이버 로그인\n",
    "\n",
    "driver.get('https://nid.naver.com/nidlogin.login')"
   ]
  },
  {
   "cell_type": "code",
   "execution_count": 27,
   "metadata": {},
   "outputs": [],
   "source": [
    "driver.find_element_by_name('id').send_keys('asdasd')"
   ]
  },
  {
   "cell_type": "code",
   "execution_count": 28,
   "metadata": {},
   "outputs": [],
   "source": [
    "driver.find_element_by_name('pw').send_keys('mypassword1234')"
   ]
  },
  {
   "cell_type": "markdown",
   "metadata": {},
   "source": [
    "\n",
    "네이버 로그인 하라는데 그냥 안했다 ;"
   ]
  },
  {
   "cell_type": "markdown",
   "metadata": {},
   "source": [
    "크롤링 하고 싶은 영역 찾기\n",
    "==============\n",
    "html 문서를 크롤링 하기 위해서는 원하는 html element를 선택해서 내용을 가져와야 한다. Chrome 브라우저의 개발자도구를 활용해서 원하는 내용을 포함하고 있는 element를 선택하기 위한 정보(id, class name, tag… 등을 확인할 수 있다."
   ]
  },
  {
   "cell_type": "code",
   "execution_count": 35,
   "metadata": {},
   "outputs": [],
   "source": [
    "driver.get('https://play.google.com/store/apps/collection/topselling_free')"
   ]
  },
  {
   "cell_type": "code",
   "execution_count": 36,
   "metadata": {},
   "outputs": [],
   "source": [
    "top_app_details = driver.find_elements_by_class_name('WsMG1c.nnK0zc')"
   ]
  },
  {
   "cell_type": "code",
   "execution_count": 37,
   "metadata": {
    "scrolled": true
   },
   "outputs": [
    {
     "name": "stdout",
     "output_type": "stream",
     "text": [
      "Brain Out – 가장 어색한 게임\n",
      "달빛조각사\n",
      "콜 오브 듀티: 모바일\n",
      "(New) 우리은행 우리WON뱅킹\n",
      "세레스M\n",
      "토스\n",
      "wavve(웨이브) - 재미의 파도를 타다!\n",
      "Instagram\n",
      "라이즈 오브 킹덤즈\n",
      "카카오톡 KakaoTalk\n",
      "네이버 - NAVER\n",
      "당근마켓 - 우리 동네 중고 직거래 벼룩장터\n",
      "Samsung Smart Switch Mobile\n",
      "네이버 지도, 내비게이션\n",
      "배달요기요\n",
      "배달의민족\n",
      "브롤스타즈\n",
      "Dinosaur Rampage\n",
      "V3 Mobile Plus 2.0\n",
      "쿠팡 (Coupang)\n",
      "T map (티맵,T맵,내비게이션)\n",
      "신의 연대기-신규서버오픈\n",
      "카카오 T - 택시, 대리운전, 주차, 내비, 카풀, 바이크\n",
      "SODA 소다 - Natural Beauty Camera\n",
      "Google Play 게임\n",
      "Wish - 쇼핑은 즐겁다\n",
      "카카오맵 - 대한민국 No.1 지도앱 ( 지도 / 내비게이션 / 대중교통 / 로드뷰 )\n",
      "Facebook\n",
      "Bill Letter\n",
      "Netflix(넷플릭스)\n",
      "소울아크: 리부트\n",
      "도시어부M\n",
      "Wrecking Ball\n",
      "Ulike유라이크 - 스타일, 고급 필터, 뷰티 카메라\n",
      "Bouncemasters!\n",
      "무한의 계단\n",
      "Square Bird\n",
      "Perfect Slices\n",
      "SRT - 수서고속철도(NEW)\n",
      "카카오내비\n",
      "4shared\n",
      "밴드\n",
      "디지몬 리얼라이즈 -Digimon ReArise-\n",
      "번개장터 - 모바일 최대 중고마켓 앱(중고나라,중고차)\n",
      "코레일톡\n",
      "TikTok 틱톡\n",
      "Messenger\n",
      "[공식]고속버스 티머니\n",
      "직방 - 2,000만명이 선택한 No.1 부동산 앱(아파트,아파트분양,원룸,오피스텔,빌라)\n",
      "Mario Kart Tour\n"
     ]
    }
   ],
   "source": [
    "for app in top_app_details:\n",
    "    print(app.text)"
   ]
  },
  {
   "cell_type": "code",
   "execution_count": 39,
   "metadata": {
    "scrolled": true
   },
   "outputs": [
    {
     "data": {
      "text/plain": [
       "[<selenium.webdriver.remote.webelement.WebElement (session=\"2f53c981f5cce0253caff09bff66a2c0\", element=\"27ff79b7-846c-4d27-a8ad-273cdff34787\")>,\n",
       " <selenium.webdriver.remote.webelement.WebElement (session=\"2f53c981f5cce0253caff09bff66a2c0\", element=\"c0fec62a-ce64-4f12-9387-c556ae915cf1\")>,\n",
       " <selenium.webdriver.remote.webelement.WebElement (session=\"2f53c981f5cce0253caff09bff66a2c0\", element=\"f7354c05-42c2-46fc-a281-2c72972415af\")>,\n",
       " <selenium.webdriver.remote.webelement.WebElement (session=\"2f53c981f5cce0253caff09bff66a2c0\", element=\"fb7a7173-f3c6-4b1d-b674-35b3f4e791d5\")>,\n",
       " <selenium.webdriver.remote.webelement.WebElement (session=\"2f53c981f5cce0253caff09bff66a2c0\", element=\"afe1a595-df00-4071-9b0e-b2497193b5ff\")>,\n",
       " <selenium.webdriver.remote.webelement.WebElement (session=\"2f53c981f5cce0253caff09bff66a2c0\", element=\"5c839b6e-0a9e-43ec-b03a-17e474eac060\")>,\n",
       " <selenium.webdriver.remote.webelement.WebElement (session=\"2f53c981f5cce0253caff09bff66a2c0\", element=\"1861acc1-ba0d-486d-9cb1-9c612b059bd2\")>,\n",
       " <selenium.webdriver.remote.webelement.WebElement (session=\"2f53c981f5cce0253caff09bff66a2c0\", element=\"7d8a09dc-85c1-4605-b312-10357d3ba95a\")>,\n",
       " <selenium.webdriver.remote.webelement.WebElement (session=\"2f53c981f5cce0253caff09bff66a2c0\", element=\"c94ddfef-a70f-4cad-aca3-7e04c2066e2d\")>,\n",
       " <selenium.webdriver.remote.webelement.WebElement (session=\"2f53c981f5cce0253caff09bff66a2c0\", element=\"23fb40da-bb53-4f63-b5cc-731fcf15b31e\")>,\n",
       " <selenium.webdriver.remote.webelement.WebElement (session=\"2f53c981f5cce0253caff09bff66a2c0\", element=\"f2bcc8ed-e79f-401f-aaa1-dfb6ef962ef9\")>,\n",
       " <selenium.webdriver.remote.webelement.WebElement (session=\"2f53c981f5cce0253caff09bff66a2c0\", element=\"a14627b6-a49d-48ca-b517-ce29749bf77c\")>,\n",
       " <selenium.webdriver.remote.webelement.WebElement (session=\"2f53c981f5cce0253caff09bff66a2c0\", element=\"ac7e1097-2cc8-4204-8c69-26658bc4d353\")>,\n",
       " <selenium.webdriver.remote.webelement.WebElement (session=\"2f53c981f5cce0253caff09bff66a2c0\", element=\"6f6eb399-8770-4322-bf6b-45ed246fa23e\")>,\n",
       " <selenium.webdriver.remote.webelement.WebElement (session=\"2f53c981f5cce0253caff09bff66a2c0\", element=\"c8e09af7-accf-4914-baaf-4627cd0f7cae\")>,\n",
       " <selenium.webdriver.remote.webelement.WebElement (session=\"2f53c981f5cce0253caff09bff66a2c0\", element=\"591b986f-c0db-4b45-95f1-60267c518ec5\")>,\n",
       " <selenium.webdriver.remote.webelement.WebElement (session=\"2f53c981f5cce0253caff09bff66a2c0\", element=\"7f509574-9dac-479a-80c2-3376a4d11028\")>,\n",
       " <selenium.webdriver.remote.webelement.WebElement (session=\"2f53c981f5cce0253caff09bff66a2c0\", element=\"391fdf87-2a25-423a-b1fd-cf2425b397c8\")>,\n",
       " <selenium.webdriver.remote.webelement.WebElement (session=\"2f53c981f5cce0253caff09bff66a2c0\", element=\"13db1b85-794a-4d27-9c21-a7fc6d29c95a\")>,\n",
       " <selenium.webdriver.remote.webelement.WebElement (session=\"2f53c981f5cce0253caff09bff66a2c0\", element=\"c560be63-55cb-4b86-a78d-46aaea9bd7db\")>,\n",
       " <selenium.webdriver.remote.webelement.WebElement (session=\"2f53c981f5cce0253caff09bff66a2c0\", element=\"c309c80e-27d5-49af-b73a-442305bee69e\")>,\n",
       " <selenium.webdriver.remote.webelement.WebElement (session=\"2f53c981f5cce0253caff09bff66a2c0\", element=\"63e0ae60-5da3-4c34-8fd1-dc71be6dcf2f\")>,\n",
       " <selenium.webdriver.remote.webelement.WebElement (session=\"2f53c981f5cce0253caff09bff66a2c0\", element=\"237bc64a-32f7-4cf3-aa4f-ce5ae8e97000\")>,\n",
       " <selenium.webdriver.remote.webelement.WebElement (session=\"2f53c981f5cce0253caff09bff66a2c0\", element=\"11cb5826-23e6-40be-9643-53472ae315d0\")>,\n",
       " <selenium.webdriver.remote.webelement.WebElement (session=\"2f53c981f5cce0253caff09bff66a2c0\", element=\"605e6896-96d1-476c-967c-28e44acede1e\")>,\n",
       " <selenium.webdriver.remote.webelement.WebElement (session=\"2f53c981f5cce0253caff09bff66a2c0\", element=\"d3c21bed-18a4-43c6-831e-07bc35da1ccd\")>,\n",
       " <selenium.webdriver.remote.webelement.WebElement (session=\"2f53c981f5cce0253caff09bff66a2c0\", element=\"c069f560-4e0a-4023-88ab-14f3ff922d6f\")>,\n",
       " <selenium.webdriver.remote.webelement.WebElement (session=\"2f53c981f5cce0253caff09bff66a2c0\", element=\"27c7eb7b-4063-4834-bc40-e55df2b3996d\")>,\n",
       " <selenium.webdriver.remote.webelement.WebElement (session=\"2f53c981f5cce0253caff09bff66a2c0\", element=\"3b492ff3-1e85-47d0-a3b9-576b41b5b68c\")>,\n",
       " <selenium.webdriver.remote.webelement.WebElement (session=\"2f53c981f5cce0253caff09bff66a2c0\", element=\"ca3d94eb-6839-4c1d-939f-73e6d2b56c10\")>,\n",
       " <selenium.webdriver.remote.webelement.WebElement (session=\"2f53c981f5cce0253caff09bff66a2c0\", element=\"314d732b-71cf-48bb-bdee-0a7840e971fa\")>,\n",
       " <selenium.webdriver.remote.webelement.WebElement (session=\"2f53c981f5cce0253caff09bff66a2c0\", element=\"819933ca-ae3a-4a39-ae50-38d1c47ecb42\")>,\n",
       " <selenium.webdriver.remote.webelement.WebElement (session=\"2f53c981f5cce0253caff09bff66a2c0\", element=\"50a68923-acaa-46fc-a647-df1aa8b95211\")>,\n",
       " <selenium.webdriver.remote.webelement.WebElement (session=\"2f53c981f5cce0253caff09bff66a2c0\", element=\"e906c61c-9cf3-4299-b791-529cdc92b5ad\")>,\n",
       " <selenium.webdriver.remote.webelement.WebElement (session=\"2f53c981f5cce0253caff09bff66a2c0\", element=\"1b3a22ec-ec15-4255-8576-d1598a255eb2\")>,\n",
       " <selenium.webdriver.remote.webelement.WebElement (session=\"2f53c981f5cce0253caff09bff66a2c0\", element=\"873d4b2f-ea8b-494b-9ba0-279d0ab0f574\")>,\n",
       " <selenium.webdriver.remote.webelement.WebElement (session=\"2f53c981f5cce0253caff09bff66a2c0\", element=\"61477d4c-6cd2-4b2d-8546-e6353dae8fde\")>,\n",
       " <selenium.webdriver.remote.webelement.WebElement (session=\"2f53c981f5cce0253caff09bff66a2c0\", element=\"f3952b3a-af09-4af6-a972-bcb30c2f12f6\")>,\n",
       " <selenium.webdriver.remote.webelement.WebElement (session=\"2f53c981f5cce0253caff09bff66a2c0\", element=\"3e822aec-bc72-47f8-be0e-2ec4fd59bfb3\")>,\n",
       " <selenium.webdriver.remote.webelement.WebElement (session=\"2f53c981f5cce0253caff09bff66a2c0\", element=\"063969d3-773d-4dd2-95f5-394b6afe183e\")>,\n",
       " <selenium.webdriver.remote.webelement.WebElement (session=\"2f53c981f5cce0253caff09bff66a2c0\", element=\"7f718bf3-a3eb-4b7f-b1be-484fb500e05b\")>,\n",
       " <selenium.webdriver.remote.webelement.WebElement (session=\"2f53c981f5cce0253caff09bff66a2c0\", element=\"c17ae48d-0f20-4dc5-8961-970a7bff8018\")>,\n",
       " <selenium.webdriver.remote.webelement.WebElement (session=\"2f53c981f5cce0253caff09bff66a2c0\", element=\"1c7a03a6-3656-425a-b2d9-5f3fa5b3708d\")>,\n",
       " <selenium.webdriver.remote.webelement.WebElement (session=\"2f53c981f5cce0253caff09bff66a2c0\", element=\"0f41a073-98db-419d-824c-6d54d2127995\")>,\n",
       " <selenium.webdriver.remote.webelement.WebElement (session=\"2f53c981f5cce0253caff09bff66a2c0\", element=\"02954854-a347-4df7-95d7-af910b704da1\")>,\n",
       " <selenium.webdriver.remote.webelement.WebElement (session=\"2f53c981f5cce0253caff09bff66a2c0\", element=\"9a15af43-5c1e-41f2-9230-3f96e04f43e3\")>,\n",
       " <selenium.webdriver.remote.webelement.WebElement (session=\"2f53c981f5cce0253caff09bff66a2c0\", element=\"2f9abfaf-71f7-4b2d-a0a2-b05825a1f8a3\")>,\n",
       " <selenium.webdriver.remote.webelement.WebElement (session=\"2f53c981f5cce0253caff09bff66a2c0\", element=\"0e8651b8-bb3d-4282-b7c1-12098705634a\")>,\n",
       " <selenium.webdriver.remote.webelement.WebElement (session=\"2f53c981f5cce0253caff09bff66a2c0\", element=\"c277c5cc-6f3d-4a11-8a5f-b16bb0d4d297\")>,\n",
       " <selenium.webdriver.remote.webelement.WebElement (session=\"2f53c981f5cce0253caff09bff66a2c0\", element=\"bbc14521-11ff-47ad-bcf0-f39012f8f8d6\")>]"
      ]
     },
     "execution_count": 39,
     "metadata": {},
     "output_type": "execute_result"
    }
   ],
   "source": [
    "top_app_details"
   ]
  },
  {
   "cell_type": "code",
   "execution_count": 38,
   "metadata": {},
   "outputs": [
    {
     "data": {
      "text/plain": [
       "50"
      ]
     },
     "execution_count": 38,
     "metadata": {},
     "output_type": "execute_result"
    }
   ],
   "source": [
    "len(top_app_details)"
   ]
  },
  {
   "cell_type": "markdown",
   "metadata": {},
   "source": [
    "크롤링 실습\n",
    "==============\n",
    "WsMG1c nnK0zc  이걸로 하면 안되고\n",
    "WsMG1c.nnK0zc 일케하니까 되네\n",
    "kCSSQe 이거는 이름이랑 회사 다불러오네\n",
    "\n",
    "> 내 생각\n",
    "이거 element 지정하면 큰거 지정하면 안에 두개있는 것도 다 불러오고\n",
    "작은 element 지정하면 당연 거기있는것만 불러오고 그러네"
   ]
  },
  {
   "cell_type": "markdown",
   "metadata": {},
   "source": [
    "Selenium / ChromeDriver 공부 !!!!!\n",
    "==============\n",
    "driver.find_elements_by_class_name() 하게되면\n",
    "return 값 > selenium 객체가 들어있는 list를 리턴한다!\n",
    "\n",
    "(뇌피셜)\n",
    "selenium 객체는 web element 객체를 그대로 가져오기 때문에\n",
    "HttpRequest 받아오듯이 '~'.text 이런식으로 받아서 읽어야 하는듯!\n",
    "\n",
    "## 자동으로 크롤링하려면 Selenium으로 브라우저를 실시간으로 제어해서 해야하는거!\n",
    "버튼 객체 찾아서, 그거 클릭하고, 거기서 리스트 또 받아서,\n",
    "또 클릭해서 새로운 url에서 데이터 받아오고 이렇게!"
   ]
  },
  {
   "cell_type": "code",
   "execution_count": 68,
   "metadata": {},
   "outputs": [],
   "source": [
    "from selenium import webdriver\n",
    "# Chrome 의 경우 아까받은 chrome driver의 위치를 지정해준다\n",
    "driver = webdriver.Chrome('C:\\\\Users\\\\LG gram\\\\forstudy\\\\uosSA\\\\chromedriver')"
   ]
  },
  {
   "cell_type": "code",
   "execution_count": 72,
   "metadata": {},
   "outputs": [],
   "source": [
    "driver.get('https://play.google.com/store/apps/')"
   ]
  },
  {
   "cell_type": "code",
   "execution_count": 73,
   "metadata": {},
   "outputs": [],
   "source": [
    "driver.find_element_by_id('action-dropdown-parent-카테고리').click()"
   ]
  },
  {
   "cell_type": "code",
   "execution_count": 74,
   "metadata": {},
   "outputs": [],
   "source": [
    "category_list = driver.find_elements_by_class_name('r2Osbf')"
   ]
  },
  {
   "cell_type": "markdown",
   "metadata": {},
   "source": [
    "selenium 객체에서 속성값 받아오기\n",
    "==============\n",
    "<객체>.get_attribute('원하는 속성')"
   ]
  },
  {
   "cell_type": "code",
   "execution_count": 77,
   "metadata": {
    "scrolled": true
   },
   "outputs": [
    {
     "data": {
      "text/plain": [
       "['https://play.google.com/store/apps/stream/vr_top_device_featured_category',\n",
       " 'https://play.google.com/store/apps/category/ANDROID_WEAR',\n",
       " 'https://play.google.com/store/apps/category/HEALTH_AND_FITNESS',\n",
       " 'https://play.google.com/store/apps/category/EDUCATION',\n",
       " 'https://play.google.com/store/apps/category/FINANCE',\n",
       " 'https://play.google.com/store/apps/category/WEATHER',\n",
       " 'https://play.google.com/store/apps/category/NEWS_AND_MAGAZINES',\n",
       " 'https://play.google.com/store/apps/category/DATING',\n",
       " 'https://play.google.com/store/apps/category/TOOLS',\n",
       " 'https://play.google.com/store/apps/category/BOOKS_AND_REFERENCE',\n",
       " 'https://play.google.com/store/apps/category/VIDEO_PLAYERS',\n",
       " 'https://play.google.com/store/apps/category/LIBRARIES_AND_DEMO',\n",
       " 'https://play.google.com/store/apps/category/LIFESTYLE',\n",
       " 'https://play.google.com/store/apps/category/COMICS',\n",
       " 'https://play.google.com/store/apps/category/PERSONALIZATION',\n",
       " 'https://play.google.com/store/apps/category/HOUSE_AND_HOME',\n",
       " 'https://play.google.com/store/apps/category/BEAUTY',\n",
       " 'https://play.google.com/store/apps/category/BUSINESS',\n",
       " 'https://play.google.com/store/apps/category/PHOTOGRAPHY',\n",
       " 'https://play.google.com/store/apps/category/PRODUCTIVITY',\n",
       " 'https://play.google.com/store/apps/category/SOCIAL',\n",
       " 'https://play.google.com/store/apps/category/SHOPPING',\n",
       " 'https://play.google.com/store/apps/category/SPORTS',\n",
       " 'https://play.google.com/store/apps/category/FOOD_AND_DRINK',\n",
       " 'https://play.google.com/store/apps/category/ENTERTAINMENT',\n",
       " 'https://play.google.com/store/apps/category/TRAVEL_AND_LOCAL',\n",
       " 'https://play.google.com/store/apps/category/ART_AND_DESIGN',\n",
       " 'https://play.google.com/store/apps/category/MUSIC_AND_AUDIO',\n",
       " 'https://play.google.com/store/apps/category/MEDICAL',\n",
       " 'https://play.google.com/store/apps/category/EVENTS',\n",
       " 'https://play.google.com/store/apps/category/AUTO_AND_VEHICLES',\n",
       " 'https://play.google.com/store/apps/stream/baselist_featured_arcore',\n",
       " 'https://play.google.com/store/apps/category/MAPS_AND_NAVIGATION',\n",
       " 'https://play.google.com/store/apps/category/PARENTING',\n",
       " 'https://play.google.com/store/apps/category/COMMUNICATION',\n",
       " 'https://play.google.com/store/apps/category/GAME_EDUCATIONAL',\n",
       " 'https://play.google.com/store/apps/category/GAME_WORD',\n",
       " 'https://play.google.com/store/apps/category/GAME_ROLE_PLAYING',\n",
       " 'https://play.google.com/store/apps/category/GAME_BOARD',\n",
       " 'https://play.google.com/store/apps/category/GAME_SPORTS',\n",
       " 'https://play.google.com/store/apps/category/GAME_SIMULATION',\n",
       " 'https://play.google.com/store/apps/category/GAME_ARCADE',\n",
       " 'https://play.google.com/store/apps/category/GAME_ACTION',\n",
       " 'https://play.google.com/store/apps/category/GAME_ADVENTURE',\n",
       " 'https://play.google.com/store/apps/category/GAME_MUSIC',\n",
       " 'https://play.google.com/store/apps/category/GAME_RACING',\n",
       " 'https://play.google.com/store/apps/category/GAME_STRATEGY',\n",
       " 'https://play.google.com/store/apps/category/GAME_CARD',\n",
       " 'https://play.google.com/store/apps/category/GAME_CASINO',\n",
       " 'https://play.google.com/store/apps/category/GAME_CASUAL',\n",
       " 'https://play.google.com/store/apps/category/GAME_TRIVIA',\n",
       " 'https://play.google.com/store/apps/category/GAME_PUZZLE',\n",
       " 'https://play.google.com/store/apps/category/FAMILY?age=AGE_RANGE1',\n",
       " 'https://play.google.com/store/apps/category/FAMILY?age=AGE_RANGE2',\n",
       " 'https://play.google.com/store/apps/category/FAMILY?age=AGE_RANGE3',\n",
       " 'https://play.google.com/store/apps/category/FAMILY_EDUCATION',\n",
       " 'https://play.google.com/store/apps/category/FAMILY_BRAINGAMES',\n",
       " 'https://play.google.com/store/apps/category/FAMILY_ACTION',\n",
       " 'https://play.google.com/store/apps/category/FAMILY_PRETEND',\n",
       " 'https://play.google.com/store/apps/category/FAMILY_MUSICVIDEO',\n",
       " 'https://play.google.com/store/apps/category/FAMILY_CREATE']"
      ]
     },
     "execution_count": 77,
     "metadata": {},
     "output_type": "execute_result"
    }
   ],
   "source": [
    "category_hrefs = []\n",
    "for category in category_list:\n",
    "    category_hrefs.append(category.get_attribute('href'))\n",
    "category_hrefs"
   ]
  },
  {
   "cell_type": "code",
   "execution_count": 71,
   "metadata": {},
   "outputs": [],
   "source": []
  },
  {
   "cell_type": "code",
   "execution_count": null,
   "metadata": {},
   "outputs": [],
   "source": []
  }
 ],
 "metadata": {
  "kernelspec": {
   "display_name": "Python 3",
   "language": "python",
   "name": "python3"
  },
  "language_info": {
   "codemirror_mode": {
    "name": "ipython",
    "version": 3
   },
   "file_extension": ".py",
   "mimetype": "text/x-python",
   "name": "python",
   "nbconvert_exporter": "python",
   "pygments_lexer": "ipython3",
   "version": "3.7.3"
  }
 },
 "nbformat": 4,
 "nbformat_minor": 2
}
