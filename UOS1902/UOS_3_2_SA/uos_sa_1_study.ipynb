{
 "cells": [
  {
   "cell_type": "markdown",
   "metadata": {},
   "source": [
    "# 현호꺼 따라하면서 공부해보기!\n",
    "android.ipynb 그냥 따라해보기!\n",
    "\n",
    "------------------------------------------------"
   ]
  },
  {
   "cell_type": "markdown",
   "metadata": {},
   "source": [
    "# 번외 마크다운 공부\n",
    "마크업 언어(markup 言語, markup language)는 태그 등을 이용하여 문서나 데이터의 구조를 명기하는 언어의 한 가지이다.\n",
    "\n",
    "태그는 원래 텍스트와는 별도로 원고의 교정부호와 주석을 표현하기 위한 것이였으나 용도가 점차 확장되어 문서의 구조를 표현하는 역할을 하게 되었다. 이러한 태그 방법의 체계를 마크업 언어라 한다.\n",
    "\n",
    "# 꺼무위키 \n",
    "마크업 언어(Markup Language)는 문서가 화면에 표시되는 형식을 나타내거나 데이터의 논리적인 구조를 명시하기 위한 규칙들을 정의한 언어의 일종이다. 데이터를 기술한 언어라는 점에서 프로그래밍 언어와는 차이가 있다."
   ]
  },
  {
   "cell_type": "markdown",
   "metadata": {},
   "source": [
    "# 마크다운 공부 결론\n",
    "그냥 필요할 때 블로그 켜놓고 작성하면 될듯!\n",
    "\n",
    "***********************************************************"
   ]
  },
  {
   "cell_type": "code",
   "execution_count": 1,
   "metadata": {},
   "outputs": [
    {
     "name": "stdout",
     "output_type": "stream",
     "text": [
      "0.24.2\n",
      "0.24.2\n"
     ]
    }
   ],
   "source": [
    "import pandas as pd\n",
    "import numpy as np\n",
    "print(pd.__version__)\n",
    "print(pd.__version__)"
   ]
  },
  {
   "cell_type": "code",
   "execution_count": 2,
   "metadata": {},
   "outputs": [],
   "source": [
    "df = pd.read_csv('C:\\\\Users\\\\LG gram\\\\forstudy\\\\uosSA\\\\appleStore_description.csv')"
   ]
  },
  {
   "cell_type": "markdown",
   "metadata": {},
   "source": [
    "Pandas는 데이터 파일을 읽어 데이터프레임을 만들 수 있다. 다음처럼 여러가지 포맷을 지원한다.\n",
    "CSV\n",
    "Excel\n",
    "HTML\n",
    "JSON\n",
    "HDF5\n",
    "SAS\n",
    "STATA\n",
    "SQL\n",
    "여기에서는 가장 단순하지만 널리 사용되는 CSV(Comman Separated Value) 포맷 입출력에 대해 살펴본다. CSV 파일 포맷은 데이터 값이 쉽표(comma)로 구분되는 텍스트 파일이다.\n",
    "\n",
    "> 오 엑셀을 그대로 읽어올 수 있네?"
   ]
  },
  {
   "cell_type": "code",
   "execution_count": 3,
   "metadata": {},
   "outputs": [
    {
     "data": {
      "text/html": [
       "<div>\n",
       "<style scoped>\n",
       "    .dataframe tbody tr th:only-of-type {\n",
       "        vertical-align: middle;\n",
       "    }\n",
       "\n",
       "    .dataframe tbody tr th {\n",
       "        vertical-align: top;\n",
       "    }\n",
       "\n",
       "    .dataframe thead th {\n",
       "        text-align: right;\n",
       "    }\n",
       "</style>\n",
       "<table border=\"1\" class=\"dataframe\">\n",
       "  <thead>\n",
       "    <tr style=\"text-align: right;\">\n",
       "      <th></th>\n",
       "      <th>id</th>\n",
       "      <th>track_name</th>\n",
       "      <th>size_bytes</th>\n",
       "      <th>app_desc</th>\n",
       "    </tr>\n",
       "  </thead>\n",
       "  <tbody>\n",
       "    <tr>\n",
       "      <th>0</th>\n",
       "      <td>281656475</td>\n",
       "      <td>PAC-MAN Premium</td>\n",
       "      <td>100788224</td>\n",
       "      <td>SAVE 20%, now only $3.99 for a limited time!\\n...</td>\n",
       "    </tr>\n",
       "    <tr>\n",
       "      <th>1</th>\n",
       "      <td>281796108</td>\n",
       "      <td>Evernote - stay organized</td>\n",
       "      <td>158578688</td>\n",
       "      <td>Let Evernote change the way you organize your ...</td>\n",
       "    </tr>\n",
       "    <tr>\n",
       "      <th>2</th>\n",
       "      <td>281940292</td>\n",
       "      <td>WeatherBug - Local Weather, Radar, Maps, Alerts</td>\n",
       "      <td>100524032</td>\n",
       "      <td>Download the most popular free weather app pow...</td>\n",
       "    </tr>\n",
       "    <tr>\n",
       "      <th>3</th>\n",
       "      <td>282614216</td>\n",
       "      <td>eBay: Best App to Buy, Sell, Save! Online Shop...</td>\n",
       "      <td>128512000</td>\n",
       "      <td>The eBay app is the best way to find anything ...</td>\n",
       "    </tr>\n",
       "    <tr>\n",
       "      <th>4</th>\n",
       "      <td>282935706</td>\n",
       "      <td>Bible</td>\n",
       "      <td>92774400</td>\n",
       "      <td>On more than 250 million devices around the wo...</td>\n",
       "    </tr>\n",
       "  </tbody>\n",
       "</table>\n",
       "</div>"
      ],
      "text/plain": [
       "          id                                         track_name  size_bytes  \\\n",
       "0  281656475                                    PAC-MAN Premium   100788224   \n",
       "1  281796108                          Evernote - stay organized   158578688   \n",
       "2  281940292    WeatherBug - Local Weather, Radar, Maps, Alerts   100524032   \n",
       "3  282614216  eBay: Best App to Buy, Sell, Save! Online Shop...   128512000   \n",
       "4  282935706                                              Bible    92774400   \n",
       "\n",
       "                                            app_desc  \n",
       "0  SAVE 20%, now only $3.99 for a limited time!\\n...  \n",
       "1  Let Evernote change the way you organize your ...  \n",
       "2  Download the most popular free weather app pow...  \n",
       "3  The eBay app is the best way to find anything ...  \n",
       "4  On more than 250 million devices around the wo...  "
      ]
     },
     "execution_count": 3,
     "metadata": {},
     "output_type": "execute_result"
    }
   ],
   "source": [
    "df.head()"
   ]
  },
  {
   "cell_type": "markdown",
   "metadata": {},
   "source": [
    "이 데이터프레임은 실제로 데이터 갯수, 즉 행(row)의 수가 890개가 넘는 대량의 데이터이다. 이렇게 데이터의 수가 많을 경우, 데이터프레임의 표현(representation)은 데이터 앞, 뒤의 일부분만 보여준다. 보여줄 행의 수는 display.max_rows 옵션으로 정할 수 있다.\n",
    "In [23]:\n",
    "pd.set_option(\"display.max_rows\", 20)  # 앞뒤로 모두 20행만 보여준다.\n",
    "\n",
    "만약 앞이나 뒤의 특정 갯수만 보고 싶다면 head 메서드나 tail 메서드를 이용한다. 메서드 인수로 출력할 행의 수를 넣을 수도 있다.\n",
    "In [24]:\n",
    "df.head()\n",
    "> df 앞 뒤 특정 개수만 볼때 head, tail\n",
    "> df 보여주는 행 개수 display.max_rows"
   ]
  },
  {
   "cell_type": "code",
   "execution_count": 4,
   "metadata": {},
   "outputs": [
    {
     "data": {
      "text/plain": [
       "0                                         PAC-MAN Premium\n",
       "1                               Evernote - stay organized\n",
       "2         WeatherBug - Local Weather, Radar, Maps, Alerts\n",
       "3       eBay: Best App to Buy, Sell, Save! Online Shop...\n",
       "4                                                   Bible\n",
       "5                                        Shanghai Mahjong\n",
       "6                  PayPal - Send and request money safely\n",
       "7                                 Pandora - Music & Radio\n",
       "8                             PCalc - The Best Calculator\n",
       "9                                             Ms. PAC-MAN\n",
       "10                              Solitaire by MobilityWare\n",
       "11                                       SCRABBLE Premium\n",
       "12                   Google – Search made just for mobile\n",
       "13                       Bank of America - Mobile Banking\n",
       "14                                               FreeCell\n",
       "15                 TripAdvisor Hotels Flights Restaurants\n",
       "16                                               Facebook\n",
       "17         Yelp - Nearby Restaurants, Shopping & Services\n",
       "18      Shazam - Discover music, artists, videos & lyrics\n",
       "19                          Crash Bandicoot Nitro Kart 3D\n",
       "20                                                 iQuran\n",
       "21                                            :) Sudoku +\n",
       "22        Yahoo Sports - Teams, Scores, News & Highlights\n",
       "23                              Mileage Log | Fahrtenbuch\n",
       "24                            Cleartune - Chromatic Tuner\n",
       "25              Lifesum – Inspiring healthy lifestyle app\n",
       "26                                               Hangman.\n",
       "27          iTranslate - Language Translator & Dictionary\n",
       "28                                               TouchOSC\n",
       "29                                             RadarScope\n",
       "                              ...                        \n",
       "7167                        脱出ゲーム　わたしをみつけて　-おじいさんとわたしの物語-\n",
       "7168                        Escape from the frigid Igloo.\n",
       "7169          Talking Santa - Video santa claus calls you\n",
       "7170                                            CTFxCmoji\n",
       "7171                      Room Escape Game - Santa's Room\n",
       "7172                                 Rescue the Enchanter\n",
       "7173                                   My Diary - 你的名字非官方\n",
       "7174    VR Thrills: Roller Coaster 360 (Google Cardboard)\n",
       "7175     Santa Kids Hair Salon - Christmas Makeover Games\n",
       "7176                                   Human Juggling Cup\n",
       "7177                             Again - room escape game\n",
       "7178                                    Saloons Unleashed\n",
       "7179               Fam — Group video calling for iMessage\n",
       "7180                     Laurie Hernandez the Human Emoji\n",
       "7181                                                 剑倚手游\n",
       "7182                                    camera for filter\n",
       "7183                                      Survivalcraft 2\n",
       "7184                                      剑客情缘-高爆率高掉落天天疯玩\n",
       "7185                                       问仙奇遇-新玩法新套装嗨到爆\n",
       "7186                   脱出ゲーム - 書道教室 -  \"漢字\"の謎に満ちた部屋からの 脱出\n",
       "7187                            Escape Game: illumination\n",
       "7188         Demolition Derby Virtual Reality (VR) Racing\n",
       "7189                           飞刀传奇-动作武侠热血江湖即时PK传奇（登录爆金装）\n",
       "7190                         Add-Ons Studio for Minecraft\n",
       "7191                           Plead the Fifth - The Game\n",
       "7192                                                Kubik\n",
       "7193                                    VR Roller-Coaster\n",
       "7194                Bret Michaels Emojis + Lyric Keyboard\n",
       "7195            VR Roller Coaster World - Virtual Reality\n",
       "7196                         Escape the Sweet Shop Series\n",
       "Name: track_name, Length: 7197, dtype: object"
      ]
     },
     "execution_count": 4,
     "metadata": {},
     "output_type": "execute_result"
    }
   ],
   "source": [
    "df['track_name']"
   ]
  },
  {
   "cell_type": "code",
   "execution_count": 5,
   "metadata": {},
   "outputs": [],
   "source": [
    "df = df.dropna()"
   ]
  },
  {
   "cell_type": "code",
   "execution_count": 6,
   "metadata": {},
   "outputs": [
    {
     "data": {
      "text/plain": [
       "0                                         PAC-MAN Premium\n",
       "1                               Evernote - stay organized\n",
       "2         WeatherBug - Local Weather, Radar, Maps, Alerts\n",
       "3       eBay: Best App to Buy, Sell, Save! Online Shop...\n",
       "4                                                   Bible\n",
       "5                                        Shanghai Mahjong\n",
       "6                  PayPal - Send and request money safely\n",
       "7                                 Pandora - Music & Radio\n",
       "8                             PCalc - The Best Calculator\n",
       "9                                             Ms. PAC-MAN\n",
       "10                              Solitaire by MobilityWare\n",
       "11                                       SCRABBLE Premium\n",
       "12                   Google – Search made just for mobile\n",
       "13                       Bank of America - Mobile Banking\n",
       "14                                               FreeCell\n",
       "15                 TripAdvisor Hotels Flights Restaurants\n",
       "16                                               Facebook\n",
       "17         Yelp - Nearby Restaurants, Shopping & Services\n",
       "18      Shazam - Discover music, artists, videos & lyrics\n",
       "19                          Crash Bandicoot Nitro Kart 3D\n",
       "20                                                 iQuran\n",
       "21                                            :) Sudoku +\n",
       "22        Yahoo Sports - Teams, Scores, News & Highlights\n",
       "23                              Mileage Log | Fahrtenbuch\n",
       "24                            Cleartune - Chromatic Tuner\n",
       "25              Lifesum – Inspiring healthy lifestyle app\n",
       "26                                               Hangman.\n",
       "27          iTranslate - Language Translator & Dictionary\n",
       "28                                               TouchOSC\n",
       "29                                             RadarScope\n",
       "                              ...                        \n",
       "7167                        脱出ゲーム　わたしをみつけて　-おじいさんとわたしの物語-\n",
       "7168                        Escape from the frigid Igloo.\n",
       "7169          Talking Santa - Video santa claus calls you\n",
       "7170                                            CTFxCmoji\n",
       "7171                      Room Escape Game - Santa's Room\n",
       "7172                                 Rescue the Enchanter\n",
       "7173                                   My Diary - 你的名字非官方\n",
       "7174    VR Thrills: Roller Coaster 360 (Google Cardboard)\n",
       "7175     Santa Kids Hair Salon - Christmas Makeover Games\n",
       "7176                                   Human Juggling Cup\n",
       "7177                             Again - room escape game\n",
       "7178                                    Saloons Unleashed\n",
       "7179               Fam — Group video calling for iMessage\n",
       "7180                     Laurie Hernandez the Human Emoji\n",
       "7181                                                 剑倚手游\n",
       "7182                                    camera for filter\n",
       "7183                                      Survivalcraft 2\n",
       "7184                                      剑客情缘-高爆率高掉落天天疯玩\n",
       "7185                                       问仙奇遇-新玩法新套装嗨到爆\n",
       "7186                   脱出ゲーム - 書道教室 -  \"漢字\"の謎に満ちた部屋からの 脱出\n",
       "7187                            Escape Game: illumination\n",
       "7188         Demolition Derby Virtual Reality (VR) Racing\n",
       "7189                           飞刀传奇-动作武侠热血江湖即时PK传奇（登录爆金装）\n",
       "7190                         Add-Ons Studio for Minecraft\n",
       "7191                           Plead the Fifth - The Game\n",
       "7192                                                Kubik\n",
       "7193                                    VR Roller-Coaster\n",
       "7194                Bret Michaels Emojis + Lyric Keyboard\n",
       "7195            VR Roller Coaster World - Virtual Reality\n",
       "7196                         Escape the Sweet Shop Series\n",
       "Name: track_name, Length: 7197, dtype: object"
      ]
     },
     "execution_count": 6,
     "metadata": {},
     "output_type": "execute_result"
    }
   ],
   "source": [
    "df['track_name']"
   ]
  },
  {
   "cell_type": "markdown",
   "metadata": {},
   "source": [
    "## df.dropna()\n",
    "데이터프레임 안의 nan 값 제거<br>\n",
    "df 행 개수 ( 카디날리티) 가 7196 > 7196으로 똑같으니까<br>\n",
    "null값은 없는 데이터셋"
   ]
  },
  {
   "cell_type": "code",
   "execution_count": 7,
   "metadata": {},
   "outputs": [],
   "source": [
    "line = df['track_name'][2]"
   ]
  },
  {
   "cell_type": "code",
   "execution_count": 8,
   "metadata": {},
   "outputs": [],
   "source": [
    "line=\"chae gang power powerlifting apps!!! deadlift squat and bench press!! you can upgrade your power! try it right now\""
   ]
  },
  {
   "cell_type": "code",
   "execution_count": 9,
   "metadata": {},
   "outputs": [
    {
     "data": {
      "text/plain": [
       "0                                         PAC-MAN Premium\n",
       "1                               Evernote - stay organized\n",
       "2         WeatherBug - Local Weather, Radar, Maps, Alerts\n",
       "3       eBay: Best App to Buy, Sell, Save! Online Shop...\n",
       "4                                                   Bible\n",
       "5                                        Shanghai Mahjong\n",
       "6                  PayPal - Send and request money safely\n",
       "7                                 Pandora - Music & Radio\n",
       "8                             PCalc - The Best Calculator\n",
       "9                                             Ms. PAC-MAN\n",
       "10                              Solitaire by MobilityWare\n",
       "11                                       SCRABBLE Premium\n",
       "12                   Google – Search made just for mobile\n",
       "13                       Bank of America - Mobile Banking\n",
       "14                                               FreeCell\n",
       "15                 TripAdvisor Hotels Flights Restaurants\n",
       "16                                               Facebook\n",
       "17         Yelp - Nearby Restaurants, Shopping & Services\n",
       "18      Shazam - Discover music, artists, videos & lyrics\n",
       "19                          Crash Bandicoot Nitro Kart 3D\n",
       "20                                                 iQuran\n",
       "21                                            :) Sudoku +\n",
       "22        Yahoo Sports - Teams, Scores, News & Highlights\n",
       "23                              Mileage Log | Fahrtenbuch\n",
       "24                            Cleartune - Chromatic Tuner\n",
       "25              Lifesum – Inspiring healthy lifestyle app\n",
       "26                                               Hangman.\n",
       "27          iTranslate - Language Translator & Dictionary\n",
       "28                                               TouchOSC\n",
       "29                                             RadarScope\n",
       "                              ...                        \n",
       "7167                        脱出ゲーム　わたしをみつけて　-おじいさんとわたしの物語-\n",
       "7168                        Escape from the frigid Igloo.\n",
       "7169          Talking Santa - Video santa claus calls you\n",
       "7170                                            CTFxCmoji\n",
       "7171                      Room Escape Game - Santa's Room\n",
       "7172                                 Rescue the Enchanter\n",
       "7173                                   My Diary - 你的名字非官方\n",
       "7174    VR Thrills: Roller Coaster 360 (Google Cardboard)\n",
       "7175     Santa Kids Hair Salon - Christmas Makeover Games\n",
       "7176                                   Human Juggling Cup\n",
       "7177                             Again - room escape game\n",
       "7178                                    Saloons Unleashed\n",
       "7179               Fam — Group video calling for iMessage\n",
       "7180                     Laurie Hernandez the Human Emoji\n",
       "7181                                                 剑倚手游\n",
       "7182                                    camera for filter\n",
       "7183                                      Survivalcraft 2\n",
       "7184                                      剑客情缘-高爆率高掉落天天疯玩\n",
       "7185                                       问仙奇遇-新玩法新套装嗨到爆\n",
       "7186                   脱出ゲーム - 書道教室 -  \"漢字\"の謎に満ちた部屋からの 脱出\n",
       "7187                            Escape Game: illumination\n",
       "7188         Demolition Derby Virtual Reality (VR) Racing\n",
       "7189                           飞刀传奇-动作武侠热血江湖即时PK传奇（登录爆金装）\n",
       "7190                         Add-Ons Studio for Minecraft\n",
       "7191                           Plead the Fifth - The Game\n",
       "7192                                                Kubik\n",
       "7193                                    VR Roller-Coaster\n",
       "7194                Bret Michaels Emojis + Lyric Keyboard\n",
       "7195            VR Roller Coaster World - Virtual Reality\n",
       "7196                         Escape the Sweet Shop Series\n",
       "Name: track_name, Length: 7197, dtype: object"
      ]
     },
     "execution_count": 9,
     "metadata": {},
     "output_type": "execute_result"
    }
   ],
   "source": [
    "df['track_name']"
   ]
  },
  {
   "cell_type": "code",
   "execution_count": 10,
   "metadata": {},
   "outputs": [
    {
     "name": "stdout",
     "output_type": "stream",
     "text": [
      "chae gang power powerlifting apps!!! deadlift squat and bench press!! you can upgrade your power! try it right now\n"
     ]
    }
   ],
   "source": [
    "print(line)"
   ]
  },
  {
   "cell_type": "code",
   "execution_count": 11,
   "metadata": {},
   "outputs": [
    {
     "name": "stdout",
     "output_type": "stream",
     "text": [
      "WeatherBug - Local Weather, Radar, Maps, Alerts\n"
     ]
    }
   ],
   "source": [
    "print(df[\"track_name\"][2])"
   ]
  },
  {
   "cell_type": "markdown",
   "metadata": {},
   "source": [
    "## 현호가 이걸 왜한진 몰겠음\n",
    "근데 일단\n",
    "line = df[..]\n",
    "이 값을 line에 넘기고\n",
    "line에 덮어쓴거기 때문에 ( 주소 포인터는 아니기 떄문에)\n",
    "df[..]값이 변하지는 않았음"
   ]
  },
  {
   "cell_type": "code",
   "execution_count": 12,
   "metadata": {},
   "outputs": [],
   "source": [
    "import re"
   ]
  },
  {
   "cell_type": "markdown",
   "metadata": {},
   "source": [
    "공부해야할 것!!! : 정규표현식 re\n",
    "======================"
   ]
  },
  {
   "cell_type": "code",
   "execution_count": 13,
   "metadata": {},
   "outputs": [],
   "source": [
    "line = re.sub('[^a-zA-z]', ' ', line)"
   ]
  },
  {
   "cell_type": "code",
   "execution_count": 14,
   "metadata": {},
   "outputs": [
    {
     "name": "stdout",
     "output_type": "stream",
     "text": [
      "chae gang power powerlifting apps    deadlift squat and bench press   you can upgrade your power  try it right now\n"
     ]
    }
   ],
   "source": [
    "print(line)"
   ]
  },
  {
   "cell_type": "code",
   "execution_count": 15,
   "metadata": {},
   "outputs": [],
   "source": [
    "line = line.upper()"
   ]
  },
  {
   "cell_type": "code",
   "execution_count": 16,
   "metadata": {},
   "outputs": [
    {
     "name": "stdout",
     "output_type": "stream",
     "text": [
      "CHAE GANG POWER POWERLIFTING APPS    DEADLIFT SQUAT AND BENCH PRESS   YOU CAN UPGRADE YOUR POWER  TRY IT RIGHT NOW\n"
     ]
    }
   ],
   "source": [
    "print(line)"
   ]
  },
  {
   "cell_type": "code",
   "execution_count": 17,
   "metadata": {},
   "outputs": [
    {
     "name": "stdout",
     "output_type": "stream",
     "text": [
      "chae gang power powerlifting apps    deadlift squat and bench press   you can upgrade your power  try it right now\n"
     ]
    }
   ],
   "source": [
    "line = line.lower()\n",
    "print(line)"
   ]
  },
  {
   "cell_type": "markdown",
   "metadata": {},
   "source": [
    "공부해야할 것!!! : 형태소 분석기 nltk \n",
    "======================\n",
    "\n",
    "지금 nltk 라이브버리 다운 안되어있어서 오류뜸!\n",
    "NTLK 자연어 처리 패키지 설명\n",
    "<https://datascienceschool.net/view-notebook/118731eec74b4ad3bdd2f89bab077e1b/>\n",
    "\n",
    "NLTK(Natural Language Toolkit) 패키지는 교육용으로 개발된 자연어 처리 및 문서 분석용 파이썬 패키지다. 다양한 기능 및 예제를 가지고 있으며 실무 및 연구에서도 많이 사용된다.\n",
    "\n",
    "NLTK 패키지가 제공하는 주요 기능은 다음과 같다.\n",
    "\n",
    "말뭉치\n",
    "토큰 생성\n",
    "형태소 분석\n",
    "품사 태깅"
   ]
  },
  {
   "cell_type": "markdown",
   "metadata": {},
   "source": [
    "## 토큰 생성\n",
    "자연어 문서를 분석하기 위해서는 우선 긴 문자열을 분석을 위한 작은 단위로 나누어야 한다. 이 문자열 단위를 토큰(token)이라고 하고 이렇게 문자열을 토큰으로 나누는 작업을 토큰 생성(tokenizing)이라고 한다. 영문의 경우에는 문장, 단어 등을 토큰으로 사용하거나 정규 표현식을 쓸 수 있다.\n",
    "\n",
    "문자열을 토큰으로 분리하는 함수를 토큰 생성 함수(tokenizer)라고 한다. 토큰 생성 함수는 문자열을 입력받아 토큰 문자열의 리스트를 출력한다\n",
    "\n",
    "* * * * *\n",
    "from nltk.tokenize import sent_tokenize\n",
    "print(sent_tokenize(emma_raw[:1000])[3])\n",
    "> sent_tokenize = sentence 문장으로 토크나이즈\n",
    "\n",
    "from nltk.tokenize import word_tokenize\n",
    "word_tokenize(emma_raw[50:100])\n",
    "> word_tokenize = 단어별로 토크나이즈\n",
    "\n",
    "from nltk.tokenize import RegexpTokenizer\n",
    "retokenize = RegexpTokenizer(\"[\\w]+\")\n",
    "retokenize.tokenize(emma_raw[50:100])\n",
    "> RegexpTokenizer() = 정규표현식으로 토크나이즈"
   ]
  },
  {
   "cell_type": "code",
   "execution_count": 18,
   "metadata": {},
   "outputs": [
    {
     "name": "stderr",
     "output_type": "stream",
     "text": [
      "[nltk_data] Downloading package punkt to C:\\Users\\LG\n",
      "[nltk_data]     gram\\AppData\\Roaming\\nltk_data...\n",
      "[nltk_data]   Package punkt is already up-to-date!\n"
     ]
    },
    {
     "data": {
      "text/plain": [
       "True"
      ]
     },
     "execution_count": 18,
     "metadata": {},
     "output_type": "execute_result"
    }
   ],
   "source": [
    "import nltk as nl"
   ]
  },
  {
   "cell_type": "code",
   "execution_count": 19,
   "metadata": {},
   "outputs": [],
   "source": [
    "token = nl.word_tokenize(line)"
   ]
  },
  {
   "cell_type": "code",
   "execution_count": 20,
   "metadata": {},
   "outputs": [
    {
     "data": {
      "text/plain": [
       "['chae',\n",
       " 'gang',\n",
       " 'power',\n",
       " 'powerlifting',\n",
       " 'apps',\n",
       " 'deadlift',\n",
       " 'squat',\n",
       " 'and',\n",
       " 'bench',\n",
       " 'press',\n",
       " 'you',\n",
       " 'can',\n",
       " 'upgrade',\n",
       " 'your',\n",
       " 'power',\n",
       " 'try',\n",
       " 'it',\n",
       " 'right',\n",
       " 'now']"
      ]
     },
     "execution_count": 20,
     "metadata": {},
     "output_type": "execute_result"
    }
   ],
   "source": [
    "token"
   ]
  },
  {
   "cell_type": "code",
   "execution_count": 21,
   "metadata": {
    "scrolled": true
   },
   "outputs": [],
   "source": [
    "#nl.download('averaged_perceptron_tagger')"
   ]
  },
  {
   "cell_type": "code",
   "execution_count": 22,
   "metadata": {},
   "outputs": [
    {
     "data": {
      "text/plain": [
       "[('chae', 'NN'),\n",
       " ('gang', 'NN'),\n",
       " ('power', 'NN'),\n",
       " ('powerlifting', 'VBG'),\n",
       " ('apps', 'JJ'),\n",
       " ('deadlift', 'NN'),\n",
       " ('squat', 'NN'),\n",
       " ('and', 'CC'),\n",
       " ('bench', 'JJ'),\n",
       " ('press', 'NN'),\n",
       " ('you', 'PRP'),\n",
       " ('can', 'MD'),\n",
       " ('upgrade', 'VB'),\n",
       " ('your', 'PRP$'),\n",
       " ('power', 'NN'),\n",
       " ('try', 'VB'),\n",
       " ('it', 'PRP'),\n",
       " ('right', 'RB'),\n",
       " ('now', 'RB')]"
      ]
     },
     "execution_count": 22,
     "metadata": {},
     "output_type": "execute_result"
    }
   ],
   "source": [
    "nl.pos_tag(token)"
   ]
  },
  {
   "cell_type": "code",
   "execution_count": 23,
   "metadata": {},
   "outputs": [],
   "source": [
    "#nl.download('tagsets')"
   ]
  },
  {
   "cell_type": "code",
   "execution_count": 24,
   "metadata": {},
   "outputs": [
    {
     "name": "stdout",
     "output_type": "stream",
     "text": [
      "JJ: adjective or numeral, ordinal\n",
      "    third ill-mannered pre-war regrettable oiled calamitous first separable\n",
      "    ectoplasmic battery-powered participatory fourth still-to-be-named\n",
      "    multilingual multi-disciplinary ...\n",
      "\n",
      "VBG: verb, present participle or gerund\n",
      "    telegraphing stirring focusing angering judging stalling lactating\n",
      "    hankerin' alleging veering capping approaching traveling besieging\n",
      "    encrypting interrupting erasing wincing ...\n",
      "\n",
      "CC: conjunction, coordinating\n",
      "    & 'n and both but either et for less minus neither nor or plus so\n",
      "    therefore times v. versus vs. whether yet\n",
      "\n",
      "MD: modal auxiliary\n",
      "    can cannot could couldn't dare may might must need ought shall should\n",
      "    shouldn't will would\n",
      "\n",
      "PRP: pronoun, personal\n",
      "    hers herself him himself hisself it itself me myself one oneself ours\n",
      "    ourselves ownself self she thee theirs them themselves they thou thy us\n"
     ]
    }
   ],
   "source": [
    "nl.help.upenn_tagset(\"JJ\")\n",
    "print()\n",
    "nl.help.upenn_tagset(\"VBG\")\n",
    "print()\n",
    "nl.help.upenn_tagset(\"CC\")\n",
    "print()\n",
    "nl.help.upenn_tagset(\"MD\")\n",
    "print()\n",
    "nl.help.upenn_tagset(\"PRP\")"
   ]
  },
  {
   "cell_type": "markdown",
   "metadata": {},
   "source": [
    "# 품사 부착\n",
    "품사(POS, part-of-speech)\n",
    "낱말을 문법적인 기능이나 형태, 뜻에 따라 구분한 것이다. \n",
    "\n",
    "품사의 구분은 언어마다 그리고 학자마다 다르다. \n",
    "\n",
    "NLTK에서는 펜 트리뱅크 태그세트(Penn Treebank Tagset)라는 것을 이용\n",
    "\n",
    "다음은 펜 트리뱅크 태그세트에서 사용하는 품사의 예이다.\n",
    "\n",
    "NNP: 단수 고유명사<br>\n",
    "VB: 동사<br>\n",
    "VBP: 동사 현재형<br>\n",
    "TO: to 전치사<br>\n",
    "NN: 명사(단수형 혹은 집합형)<br>\n",
    "DT: 관형사<br>"
   ]
  },
  {
   "cell_type": "markdown",
   "metadata": {},
   "source": [
    "# pos_tag\n",
    "\n",
    "pos_tag 명령을 사용하면 단어 토큰에 품사를 부착하여 튜플로 출력한다. 다음 예문에서 refuse, permit이라는 같은 철자의 단어가 각각 동사와 명사로 다르게 품사 부착된 것을 볼 수 있다."
   ]
  },
  {
   "cell_type": "code",
   "execution_count": 25,
   "metadata": {},
   "outputs": [
    {
     "data": {
      "text/plain": [
       "'NN'"
      ]
     },
     "execution_count": 25,
     "metadata": {},
     "output_type": "execute_result"
    }
   ],
   "source": [
    "nl.pos_tag(token)[0][1]"
   ]
  },
  {
   "cell_type": "code",
   "execution_count": 26,
   "metadata": {},
   "outputs": [],
   "source": [
    "#nl.download('stopwords')\n",
    "from nltk.corpus import stopwords\n"
   ]
  },
  {
   "cell_type": "markdown",
   "metadata": {},
   "source": [
    "# Stopwords ? Corpus?\n",
    "\n",
    "불용어 Stopword\n",
    "<https://wikidocs.net/22530>\n",
    "\n",
    " 유의미한 단어 토큰만을 선별하기 위해\n",
    " \n",
    " 큰 의미가 없다라는 것은 문장 내에서는 자주 등장하지만 문장을 분석하는 데 있어서는 큰 도움이 되지 않는 단어들\n",
    " \n",
    "  예를 들면, I, my, me, over, 조사, 접미사 같은 단어들\n",
    "  \n",
    "  이러한 단어들을 불용어(stopword)\n",
    "  \n",
    "  NLTK에서는 위와 같은 100여개 이상의 영어 단어들을 불용어로 패키지 내에서 미리 정의\n",
    "  \n",
    "  NLTK를 사용하면, 갖고 있는 코퍼스로부터 NLTK에서 이미 정의된 영어 불용어들을 쉽게 제거\n",
    "  \n",
    "  불용어는 개발자가 직접 정의할 수도 있습니다. 이 챕터에서는 NLTK를 이용해서 영어 문장으로부터 불용어를 제거하는 실습을 하고, 직접 우리가 정의한 불용어를 통해서 한국어로부터 불용어를 제거해보도록 하겠습니다."
   ]
  },
  {
   "cell_type": "code",
   "execution_count": 27,
   "metadata": {},
   "outputs": [
    {
     "data": {
      "text/plain": [
       "['i',\n",
       " 'me',\n",
       " 'my',\n",
       " 'myself',\n",
       " 'we',\n",
       " 'our',\n",
       " 'ours',\n",
       " 'ourselves',\n",
       " 'you',\n",
       " \"you're\",\n",
       " \"you've\",\n",
       " \"you'll\",\n",
       " \"you'd\",\n",
       " 'your',\n",
       " 'yours',\n",
       " 'yourself',\n",
       " 'yourselves',\n",
       " 'he',\n",
       " 'him',\n",
       " 'his']"
      ]
     },
     "execution_count": 27,
     "metadata": {},
     "output_type": "execute_result"
    }
   ],
   "source": [
    "stopwords.words('english')[:20]"
   ]
  },
  {
   "cell_type": "code",
   "execution_count": 28,
   "metadata": {},
   "outputs": [],
   "source": [
    "word_tokens = token"
   ]
  },
  {
   "cell_type": "code",
   "execution_count": 29,
   "metadata": {},
   "outputs": [
    {
     "data": {
      "text/plain": [
       "['chae',\n",
       " 'gang',\n",
       " 'power',\n",
       " 'powerlifting',\n",
       " 'apps',\n",
       " 'deadlift',\n",
       " 'squat',\n",
       " 'and',\n",
       " 'bench',\n",
       " 'press',\n",
       " 'you',\n",
       " 'can',\n",
       " 'upgrade',\n",
       " 'your',\n",
       " 'power',\n",
       " 'try',\n",
       " 'it',\n",
       " 'right',\n",
       " 'now']"
      ]
     },
     "execution_count": 29,
     "metadata": {},
     "output_type": "execute_result"
    }
   ],
   "source": [
    "token"
   ]
  },
  {
   "cell_type": "markdown",
   "metadata": {},
   "source": [
    "## Python 집합 자료형 복습\n",
    "> Python 자료형\n",
    "숫자형, 문자열 자료형\n",
    "리스트 자료형, 튜플 자료형, 딕셔너리 자료형, 집합 자료형 ...\n",
    "\n",
    "집합 자료형은 어떻게 만들까?\n",
    "집합(set)은 파이썬 2.3부터 지원하기 시작한 자료형으로, 집합에 관련된 것을 쉽게 처리하기 위해 만든 자료형이다.\n",
    "\n",
    "집합 자료형은 다음과 같이 set 키워드를 사용해 만들 수 있다.\n",
    "\n",
    ">>> s1 = set([1,2,3])\n",
    ">>> s1\n",
    "{1, 2, 3}\n",
    "\n",
    "set에 다음과 같은 2가지 큰 특징이 있기 때문이다.\n",
    "\n",
    "중복을 허용하지 않는다.\n",
    "순서가 없다(Unordered).\n",
    "\n",
    " set 자료형은 순서가 없기(unordered) 때문에 인덱싱으로 값을 얻을 수 없다\n",
    " 딕셔너리 역시 순서가 없는 자료형이라 인덱싱을 지원하지 않는다.\n",
    " \n",
    " ※ 중복을 허용하지 않는 set의 특징은 자료형의 중복을 제거하기 위한 필터 역할로 종종 사용하기도 한다."
   ]
  },
  {
   "cell_type": "markdown",
   "metadata": {},
   "source": [
    "## Python 튜플 자료형 복습\n",
    "튜플은 어떻게 만들까?\n",
    "튜플(tuple)은 몇 가지 점을 제외하곤 리스트와 거의 비슷하며 리스트와 다른 점은 다음과 같다.\n",
    "\n",
    "리스트는 [ ]으로 둘러싸지만 튜플은 ( )으로 둘러싼다.\n",
    "리스트는 그 값의 생성, 삭제, 수정이 가능하지만 튜플은 그 값을 바꿀 수 없다\n",
    "\n",
    "### 튜플과 리스트는 비슷한 역할을 하지만 프로그래밍을 할 때 튜플과 리스트는 구별해서 사용하는 것이 유리하다\n",
    " 튜플과 리스트의 가장 큰 차이는 값을 변화시킬 수 있는가 여부이다. \n",
    " \n",
    " 프로그램이 실행되는 동안 그 값이 항상 변하지 않기를 바란다거나 값이 바뀔까 걱정하고 싶지 않다면 주저하지 말고 튜플을 사용해야 한다.\n"
   ]
  },
  {
   "cell_type": "code",
   "execution_count": 30,
   "metadata": {},
   "outputs": [],
   "source": [
    "stop_words = set(stopwords.words('english'))\n",
    "\n",
    "result = []\n",
    "for w in word_tokens :\n",
    "    if w not in stop_words:\n",
    "        result.append(w)"
   ]
  },
  {
   "cell_type": "code",
   "execution_count": 31,
   "metadata": {},
   "outputs": [
    {
     "name": "stdout",
     "output_type": "stream",
     "text": [
      "['chae', 'gang', 'power', 'powerlifting', 'apps', 'deadlift', 'squat', 'and', 'bench', 'press', 'you', 'can', 'upgrade', 'your', 'power', 'try', 'it', 'right', 'now']\n",
      "['chae', 'gang', 'power', 'powerlifting', 'apps', 'deadlift', 'squat', 'bench', 'press', 'upgrade', 'power', 'try', 'right']\n"
     ]
    }
   ],
   "source": [
    "print(token)\n",
    "\n",
    "token = result\n",
    "\n",
    "print(token)\n",
    "\n",
    "#stopword인 and, you, can 같은거 사라진거 볼 수 있음!\n",
    "#불용어 = 의미 분석에서 그리 큰 의미 아닌것들"
   ]
  },
  {
   "cell_type": "code",
   "execution_count": 32,
   "metadata": {},
   "outputs": [
    {
     "data": {
      "text/plain": [
       "13"
      ]
     },
     "execution_count": 32,
     "metadata": {},
     "output_type": "execute_result"
    }
   ],
   "source": [
    "len(token)"
   ]
  },
  {
   "cell_type": "code",
   "execution_count": 33,
   "metadata": {},
   "outputs": [],
   "source": [
    "#한 글자 짜리 없애는 거\n",
    "\n",
    "for i in range(0, len(token)-1):\n",
    "    if(len(token[i])==1):\n",
    "        del token[i]"
   ]
  },
  {
   "cell_type": "code",
   "execution_count": 36,
   "metadata": {},
   "outputs": [
    {
     "data": {
      "text/plain": [
       "['chae',\n",
       " 'gang',\n",
       " 'power',\n",
       " 'powerlifting',\n",
       " 'apps',\n",
       " 'deadlift',\n",
       " 'squat',\n",
       " 'bench',\n",
       " 'press',\n",
       " 'upgrade',\n",
       " 'power',\n",
       " 'try',\n",
       " 'right']"
      ]
     },
     "execution_count": 36,
     "metadata": {},
     "output_type": "execute_result"
    }
   ],
   "source": [
    "token"
   ]
  },
  {
   "cell_type": "code",
   "execution_count": 37,
   "metadata": {},
   "outputs": [],
   "source": [
    "vocab = nl.Text(token).vocab()"
   ]
  },
  {
   "cell_type": "markdown",
   "metadata": {},
   "source": [
    "# nltk.text()\n",
    "```{.python}\n",
    "print(len(en.tokens))       # returns number of tokens (document length)\n",
    "print(len(set(en.tokens)))  # returns number of unique tokens\n",
    "en.vocab()                  # returns frequency distribution\n",
    "```\n",
    "두개까지는 그냥 파이썬 기능 이용한거\n",
    "set()으로 집합으로 unique value만뽑아냄\n",
    "\n",
    "nltk.text().vacab() = 빈도수 분배한 딕셔너리 뽑아냄!"
   ]
  },
  {
   "cell_type": "code",
   "execution_count": 57,
   "metadata": {},
   "outputs": [
    {
     "data": {
      "text/plain": [
       "FreqDist({'power': 2, 'chae': 1, 'gang': 1, 'powerlifting': 1, 'apps': 1, 'deadlift': 1, 'squat': 1, 'bench': 1, 'press': 1, 'upgrade': 1, ...})"
      ]
     },
     "execution_count": 57,
     "metadata": {},
     "output_type": "execute_result"
    }
   ],
   "source": [
    "vocab"
   ]
  },
  {
   "cell_type": "code",
   "execution_count": 38,
   "metadata": {},
   "outputs": [],
   "source": [
    "from collections import Counter\n",
    "\n",
    "count = Counter(token)"
   ]
  },
  {
   "cell_type": "markdown",
   "metadata": {},
   "source": [
    "# Python Collections 모듈 - Counter\n",
    "\n",
    "컨테이너에 동일한 값의 자료가 몇개인지를 파악하는데 사용하는 객체이다.\n",
    "docs.python.org에서 Counter함수에 대해 자세히 알아볼 수 있다.\n",
    "\n",
    "collections.Counter()의 결과값(return)은 딕셔너리 형태로 출력된다.\n",
    "아래의 예제 소스코드들을 통해 collections.Counter()에 대해 살펴보도록 하자.\n",
    "\n",
    "\n",
    "Counter의 메소드(method)들\n",
    "1) update()\n",
    "update()는 Counter의 값을 갱신하는 것을 의미한다. 딕셔너리의 update와 비슷하지만 입력값을 문자열 형태로도 입력 가능하다. 예제(5)는 입력값을 문자열로 했을때와 딕셔너리 형태로 입력했을 떄의 예제이다.\n",
    "2) elements()\n",
    "입력된 값의 요소에 해당하는 값을 풀어서 반환한다. 요소는 무작위로 반환하며, 요소 수가 1보다 작을 경우 elements는 이를 출력하지 않는다. 예제(5)는 \"Hello Python\"의 문자열을 elements()를 사용하여 출력한 결과이다. elements()는 대소문자를 구분하며, sorted()를 이용하여 정렬해줄 수 있다.\n",
    "3) most_common(n)\n",
    "4) subtract()\n",
    "3. Counter를 이용한 연산\n",
    "collections.Counter()는 산술/집합 연산이 가능하다."
   ]
  },
  {
   "cell_type": "code",
   "execution_count": 39,
   "metadata": {},
   "outputs": [
    {
     "data": {
      "text/plain": [
       "Counter({'chae': 1,\n",
       "         'gang': 1,\n",
       "         'power': 2,\n",
       "         'powerlifting': 1,\n",
       "         'apps': 1,\n",
       "         'deadlift': 1,\n",
       "         'squat': 1,\n",
       "         'bench': 1,\n",
       "         'press': 1,\n",
       "         'upgrade': 1,\n",
       "         'try': 1,\n",
       "         'right': 1})"
      ]
     },
     "execution_count": 39,
     "metadata": {},
     "output_type": "execute_result"
    }
   ],
   "source": [
    "count"
   ]
  },
  {
   "cell_type": "code",
   "execution_count": 47,
   "metadata": {},
   "outputs": [
    {
     "name": "stdout",
     "output_type": "stream",
     "text": [
      "<class 'tuple'>\n"
     ]
    }
   ],
   "source": [
    "count.most_common(10)\n",
    "# 가장 count 수 높은 10개만 보여주나봐\n",
    "print(type(count.most_common(10)[0]))"
   ]
  },
  {
   "cell_type": "markdown",
   "metadata": {},
   "source": [
    "## count.most_common 이 list 뽑아내는데\n",
    "## 그 안의 요소는 또 튜플임!\n",
    "\n",
    "## dict 타입은 { ~:~ , ~:~, ... } 이런형태"
   ]
  },
  {
   "cell_type": "code",
   "execution_count": 43,
   "metadata": {},
   "outputs": [
    {
     "data": {
      "text/plain": [
       "[('power', 2), ('chae', 1), ('gang', 1), ('powerlifting', 1), ('apps', 1)]"
      ]
     },
     "execution_count": 43,
     "metadata": {},
     "output_type": "execute_result"
    }
   ],
   "source": [
    "count.most_common(5)"
   ]
  },
  {
   "cell_type": "code",
   "execution_count": 44,
   "metadata": {},
   "outputs": [
    {
     "data": {
      "text/plain": [
       "list"
      ]
     },
     "execution_count": 44,
     "metadata": {},
     "output_type": "execute_result"
    }
   ],
   "source": [
    "type(count.most_common(5))"
   ]
  },
  {
   "cell_type": "code",
   "execution_count": 45,
   "metadata": {},
   "outputs": [
    {
     "data": {
      "text/plain": [
       "collections.Counter"
      ]
     },
     "execution_count": 45,
     "metadata": {},
     "output_type": "execute_result"
    }
   ],
   "source": [
    "type(count)"
   ]
  },
  {
   "cell_type": "markdown",
   "metadata": {},
   "source": [
    "# count.most_common return -> list\n",
    "# count -> collections.Counter 객체"
   ]
  },
  {
   "cell_type": "code",
   "execution_count": 46,
   "metadata": {},
   "outputs": [
    {
     "name": "stdout",
     "output_type": "stream",
     "text": [
      "<class 'dict'>\n",
      "<class 'dict'>\n",
      "<class 'dict'>\n",
      "<class 'dict'>\n",
      "<class 'dict'>\n",
      "<class 'dict'>\n",
      "<class 'dict'>\n",
      "<class 'dict'>\n",
      "<class 'dict'>\n",
      "<class 'dict'>\n",
      "<class 'dict'>\n",
      "<class 'dict'>\n"
     ]
    }
   ],
   "source": [
    "tag_dics = []\n",
    "tags = []\n",
    "tags_count = []\n",
    "\n",
    "for n, c in count.most_common(50):\n",
    "    dics = {'tag' : n, 'count': c}\n",
    "    print(type(dics)) #내가 뭐로 리턴하는지 궁금해서\n",
    "    tag_dics.append(dics) \n",
    "    tags.append(dics['tag'])\n",
    "    tags_count.append(dics['count'])"
   ]
  },
  {
   "cell_type": "code",
   "execution_count": 48,
   "metadata": {},
   "outputs": [
    {
     "data": {
      "text/plain": [
       "[{'tag': 'power', 'count': 2},\n",
       " {'tag': 'chae', 'count': 1},\n",
       " {'tag': 'gang', 'count': 1},\n",
       " {'tag': 'powerlifting', 'count': 1},\n",
       " {'tag': 'apps', 'count': 1},\n",
       " {'tag': 'deadlift', 'count': 1},\n",
       " {'tag': 'squat', 'count': 1},\n",
       " {'tag': 'bench', 'count': 1},\n",
       " {'tag': 'press', 'count': 1},\n",
       " {'tag': 'upgrade', 'count': 1},\n",
       " {'tag': 'try', 'count': 1},\n",
       " {'tag': 'right', 'count': 1}]"
      ]
     },
     "execution_count": 48,
     "metadata": {},
     "output_type": "execute_result"
    }
   ],
   "source": [
    "tag_dics"
   ]
  },
  {
   "cell_type": "code",
   "execution_count": 49,
   "metadata": {},
   "outputs": [
    {
     "data": {
      "text/plain": [
       "2"
      ]
     },
     "execution_count": 49,
     "metadata": {},
     "output_type": "execute_result"
    }
   ],
   "source": [
    "tag_dics[0]['count']"
   ]
  },
  {
   "cell_type": "code",
   "execution_count": 50,
   "metadata": {},
   "outputs": [
    {
     "data": {
      "text/plain": [
       "[2, 1, 1, 1, 1, 1, 1, 1, 1, 1, 1, 1]"
      ]
     },
     "execution_count": 50,
     "metadata": {},
     "output_type": "execute_result"
    }
   ],
   "source": [
    "tags_count"
   ]
  },
  {
   "cell_type": "code",
   "execution_count": 51,
   "metadata": {},
   "outputs": [
    {
     "data": {
      "text/plain": [
       "['power',\n",
       " 'chae',\n",
       " 'gang',\n",
       " 'powerlifting',\n",
       " 'apps',\n",
       " 'deadlift',\n",
       " 'squat',\n",
       " 'bench',\n",
       " 'press',\n",
       " 'upgrade',\n",
       " 'try',\n",
       " 'right']"
      ]
     },
     "execution_count": 51,
     "metadata": {},
     "output_type": "execute_result"
    }
   ],
   "source": [
    "tags"
   ]
  },
  {
   "cell_type": "code",
   "execution_count": 54,
   "metadata": {},
   "outputs": [
    {
     "data": {
      "text/html": [
       "<div>\n",
       "<style scoped>\n",
       "    .dataframe tbody tr th:only-of-type {\n",
       "        vertical-align: middle;\n",
       "    }\n",
       "\n",
       "    .dataframe tbody tr th {\n",
       "        vertical-align: top;\n",
       "    }\n",
       "\n",
       "    .dataframe thead th {\n",
       "        text-align: right;\n",
       "    }\n",
       "</style>\n",
       "<table border=\"1\" class=\"dataframe\">\n",
       "  <thead>\n",
       "    <tr style=\"text-align: right;\">\n",
       "      <th></th>\n",
       "      <th>id</th>\n",
       "      <th>track_name</th>\n",
       "      <th>size_bytes</th>\n",
       "      <th>app_desc</th>\n",
       "      <th>App_token</th>\n",
       "    </tr>\n",
       "  </thead>\n",
       "  <tbody>\n",
       "    <tr>\n",
       "      <th>0</th>\n",
       "      <td>281656475</td>\n",
       "      <td>PAC-MAN Premium</td>\n",
       "      <td>100788224</td>\n",
       "      <td>SAVE 20%, now only $3.99 for a limited time!\\n...</td>\n",
       "      <td>NaN</td>\n",
       "    </tr>\n",
       "    <tr>\n",
       "      <th>1</th>\n",
       "      <td>281796108</td>\n",
       "      <td>Evernote - stay organized</td>\n",
       "      <td>158578688</td>\n",
       "      <td>Let Evernote change the way you organize your ...</td>\n",
       "      <td>NaN</td>\n",
       "    </tr>\n",
       "    <tr>\n",
       "      <th>2</th>\n",
       "      <td>281940292</td>\n",
       "      <td>WeatherBug - Local Weather, Radar, Maps, Alerts</td>\n",
       "      <td>100524032</td>\n",
       "      <td>Download the most popular free weather app pow...</td>\n",
       "      <td>NaN</td>\n",
       "    </tr>\n",
       "    <tr>\n",
       "      <th>3</th>\n",
       "      <td>282614216</td>\n",
       "      <td>eBay: Best App to Buy, Sell, Save! Online Shop...</td>\n",
       "      <td>128512000</td>\n",
       "      <td>The eBay app is the best way to find anything ...</td>\n",
       "      <td>NaN</td>\n",
       "    </tr>\n",
       "    <tr>\n",
       "      <th>4</th>\n",
       "      <td>282935706</td>\n",
       "      <td>Bible</td>\n",
       "      <td>92774400</td>\n",
       "      <td>On more than 250 million devices around the wo...</td>\n",
       "      <td>NaN</td>\n",
       "    </tr>\n",
       "  </tbody>\n",
       "</table>\n",
       "</div>"
      ],
      "text/plain": [
       "          id                                         track_name  size_bytes  \\\n",
       "0  281656475                                    PAC-MAN Premium   100788224   \n",
       "1  281796108                          Evernote - stay organized   158578688   \n",
       "2  281940292    WeatherBug - Local Weather, Radar, Maps, Alerts   100524032   \n",
       "3  282614216  eBay: Best App to Buy, Sell, Save! Online Shop...   128512000   \n",
       "4  282935706                                              Bible    92774400   \n",
       "\n",
       "                                            app_desc  App_token  \n",
       "0  SAVE 20%, now only $3.99 for a limited time!\\n...        NaN  \n",
       "1  Let Evernote change the way you organize your ...        NaN  \n",
       "2  Download the most popular free weather app pow...        NaN  \n",
       "3  The eBay app is the best way to find anything ...        NaN  \n",
       "4  On more than 250 million devices around the wo...        NaN  "
      ]
     },
     "execution_count": 54,
     "metadata": {},
     "output_type": "execute_result"
    }
   ],
   "source": [
    "df.head()"
   ]
  },
  {
   "cell_type": "code",
   "execution_count": 52,
   "metadata": {},
   "outputs": [],
   "source": [
    "df[\"App_token\"]=np.nan #새로운 칼럼 추가"
   ]
  },
  {
   "cell_type": "markdown",
   "metadata": {},
   "source": [
    "# pandas의 data frame에 \n",
    "# 기존에 존재하지 않는 이름으로 [] 지정해서\n",
    "# 값 넣으면, 자동으로 컬럼 생기는듯"
   ]
  },
  {
   "cell_type": "code",
   "execution_count": 55,
   "metadata": {},
   "outputs": [
    {
     "name": "stderr",
     "output_type": "stream",
     "text": [
      "C:\\Anaconda3\\lib\\site-packages\\ipykernel_launcher.py:1: SettingWithCopyWarning: \n",
      "A value is trying to be set on a copy of a slice from a DataFrame\n",
      "\n",
      "See the caveats in the documentation: http://pandas.pydata.org/pandas-docs/stable/indexing.html#indexing-view-versus-copy\n",
      "  \"\"\"Entry point for launching an IPython kernel.\n",
      "C:\\Anaconda3\\lib\\site-packages\\pandas\\core\\indexing.py:190: SettingWithCopyWarning: \n",
      "A value is trying to be set on a copy of a slice from a DataFrame\n",
      "\n",
      "See the caveats in the documentation: http://pandas.pydata.org/pandas-docs/stable/indexing.html#indexing-view-versus-copy\n",
      "  self._setitem_with_indexer(indexer, value)\n"
     ]
    }
   ],
   "source": [
    "df[\"App_token\"][0] = tags[0]"
   ]
  },
  {
   "cell_type": "code",
   "execution_count": 56,
   "metadata": {},
   "outputs": [
    {
     "data": {
      "text/html": [
       "<div>\n",
       "<style scoped>\n",
       "    .dataframe tbody tr th:only-of-type {\n",
       "        vertical-align: middle;\n",
       "    }\n",
       "\n",
       "    .dataframe tbody tr th {\n",
       "        vertical-align: top;\n",
       "    }\n",
       "\n",
       "    .dataframe thead th {\n",
       "        text-align: right;\n",
       "    }\n",
       "</style>\n",
       "<table border=\"1\" class=\"dataframe\">\n",
       "  <thead>\n",
       "    <tr style=\"text-align: right;\">\n",
       "      <th></th>\n",
       "      <th>id</th>\n",
       "      <th>track_name</th>\n",
       "      <th>size_bytes</th>\n",
       "      <th>app_desc</th>\n",
       "      <th>App_token</th>\n",
       "    </tr>\n",
       "  </thead>\n",
       "  <tbody>\n",
       "    <tr>\n",
       "      <th>0</th>\n",
       "      <td>281656475</td>\n",
       "      <td>PAC-MAN Premium</td>\n",
       "      <td>100788224</td>\n",
       "      <td>SAVE 20%, now only $3.99 for a limited time!\\n...</td>\n",
       "      <td>power</td>\n",
       "    </tr>\n",
       "    <tr>\n",
       "      <th>1</th>\n",
       "      <td>281796108</td>\n",
       "      <td>Evernote - stay organized</td>\n",
       "      <td>158578688</td>\n",
       "      <td>Let Evernote change the way you organize your ...</td>\n",
       "      <td>NaN</td>\n",
       "    </tr>\n",
       "    <tr>\n",
       "      <th>2</th>\n",
       "      <td>281940292</td>\n",
       "      <td>WeatherBug - Local Weather, Radar, Maps, Alerts</td>\n",
       "      <td>100524032</td>\n",
       "      <td>Download the most popular free weather app pow...</td>\n",
       "      <td>NaN</td>\n",
       "    </tr>\n",
       "    <tr>\n",
       "      <th>3</th>\n",
       "      <td>282614216</td>\n",
       "      <td>eBay: Best App to Buy, Sell, Save! Online Shop...</td>\n",
       "      <td>128512000</td>\n",
       "      <td>The eBay app is the best way to find anything ...</td>\n",
       "      <td>NaN</td>\n",
       "    </tr>\n",
       "    <tr>\n",
       "      <th>4</th>\n",
       "      <td>282935706</td>\n",
       "      <td>Bible</td>\n",
       "      <td>92774400</td>\n",
       "      <td>On more than 250 million devices around the wo...</td>\n",
       "      <td>NaN</td>\n",
       "    </tr>\n",
       "  </tbody>\n",
       "</table>\n",
       "</div>"
      ],
      "text/plain": [
       "          id                                         track_name  size_bytes  \\\n",
       "0  281656475                                    PAC-MAN Premium   100788224   \n",
       "1  281796108                          Evernote - stay organized   158578688   \n",
       "2  281940292    WeatherBug - Local Weather, Radar, Maps, Alerts   100524032   \n",
       "3  282614216  eBay: Best App to Buy, Sell, Save! Online Shop...   128512000   \n",
       "4  282935706                                              Bible    92774400   \n",
       "\n",
       "                                            app_desc App_token  \n",
       "0  SAVE 20%, now only $3.99 for a limited time!\\n...     power  \n",
       "1  Let Evernote change the way you organize your ...       NaN  \n",
       "2  Download the most popular free weather app pow...       NaN  \n",
       "3  The eBay app is the best way to find anything ...       NaN  \n",
       "4  On more than 250 million devices around the wo...       NaN  "
      ]
     },
     "execution_count": 56,
     "metadata": {},
     "output_type": "execute_result"
    }
   ],
   "source": [
    "df.head()"
   ]
  },
  {
   "cell_type": "markdown",
   "metadata": {},
   "source": [
    "# Pandas - Data Frame 관련한 기본함수 : 크기\n",
    "\n",
    "1. shape : 행과 열의 개수를 튜플로 반환\n",
    "df1.shape > (3,3)\n",
    "\n",
    "2. dtypes: 열을 기준으로 데이터 형태 반환\n",
    "df1.dtypes >\n",
    "Num object\n",
    "Name object\n",
    "Color object\n",
    "dtype: object\n",
    "\n",
    "3. axes : 행과 열의 이름을 리스트로 반환\n",
    "df1.axes\n",
    "행 > 열 순서로 \n",
    "\n",
    "4. T : 전치\n",
    "df1.T \n",
    "Transpose 해주나봐 전치행렬(대각선 기준으로 ij > ji 바꿈)\n",
    "\n",
    "5. 인덱싱\n",
    "5-1. 행 기준 인덱싱\n",
    "df1.index > 행 이름, 데이터형태 반환\n",
    "\n",
    "5-2: ix[] : 특정 행을 지정하는 방법\n",
    "df1.ix[1:] \n",
    "1과 2행의 데이터들이 반환됨\n",
    "\n",
    "5-2:\n",
    "df1.ix['A']\n",
    "행 이름이 A인 데이터들의 정보 반환됨\n",
    "\n",
    "5-3: 열기준 인덱싱\n",
    "5-3: df1.columns\n",
    "df1['Name']"
   ]
  },
  {
   "cell_type": "markdown",
   "metadata": {},
   "source": [
    "# Pandas - DF 행개수, 열개수 세기\n",
    "\n",
    "행개수 세기\n",
    "> len(df)\n",
    "df. shape[0]\n",
    "len(df.index)\n",
    "\n",
    "열개수 세기\n",
    "> df.shape[1]\n",
    "len(df.columns)\n",
    "\n",
    "Null 값이 아닌 행 개수 세기\n",
    ">df.count()"
   ]
  },
  {
   "cell_type": "markdown",
   "metadata": {},
   "source": [
    "-------------------------------------------------------------------------\n",
    "# *이제 Graph 형태로 만들어 보는거*"
   ]
  },
  {
   "cell_type": "code",
   "execution_count": 60,
   "metadata": {},
   "outputs": [],
   "source": [
    "node=pd.DataFrame(0.0, columns=tags, index=tags)\n",
    "#데이터 추가할 땐 코드 달라짐\n",
    "#데이터 값을 0.0으로 다 넣고, 행과 열만 리스트로 넣어준 거임"
   ]
  },
  {
   "cell_type": "markdown",
   "metadata": {},
   "source": [
    "# pandas.DataFrame\n",
    "## class pandas.DataFrame(data=None, index=None, columns=None, dtype=None, copy=False)[source]\n",
    "\n",
    "Can be thought of as a dict-like container for Series objects. The primary pandas data structure.\n",
    "\n",
    "<https://pandas.pydata.org/pandas-docs/stable/reference/api/pandas.DataFrame.html>"
   ]
  },
  {
   "cell_type": "code",
   "execution_count": 61,
   "metadata": {},
   "outputs": [
    {
     "data": {
      "text/html": [
       "<div>\n",
       "<style scoped>\n",
       "    .dataframe tbody tr th:only-of-type {\n",
       "        vertical-align: middle;\n",
       "    }\n",
       "\n",
       "    .dataframe tbody tr th {\n",
       "        vertical-align: top;\n",
       "    }\n",
       "\n",
       "    .dataframe thead th {\n",
       "        text-align: right;\n",
       "    }\n",
       "</style>\n",
       "<table border=\"1\" class=\"dataframe\">\n",
       "  <thead>\n",
       "    <tr style=\"text-align: right;\">\n",
       "      <th></th>\n",
       "      <th>power</th>\n",
       "      <th>chae</th>\n",
       "      <th>gang</th>\n",
       "      <th>powerlifting</th>\n",
       "      <th>apps</th>\n",
       "      <th>deadlift</th>\n",
       "      <th>squat</th>\n",
       "      <th>bench</th>\n",
       "      <th>press</th>\n",
       "      <th>upgrade</th>\n",
       "      <th>try</th>\n",
       "      <th>right</th>\n",
       "    </tr>\n",
       "  </thead>\n",
       "  <tbody>\n",
       "    <tr>\n",
       "      <th>power</th>\n",
       "      <td>0.0</td>\n",
       "      <td>0.0</td>\n",
       "      <td>0.0</td>\n",
       "      <td>0.0</td>\n",
       "      <td>0.0</td>\n",
       "      <td>0.0</td>\n",
       "      <td>0.0</td>\n",
       "      <td>0.0</td>\n",
       "      <td>0.0</td>\n",
       "      <td>0.0</td>\n",
       "      <td>0.0</td>\n",
       "      <td>0.0</td>\n",
       "    </tr>\n",
       "    <tr>\n",
       "      <th>chae</th>\n",
       "      <td>0.0</td>\n",
       "      <td>0.0</td>\n",
       "      <td>0.0</td>\n",
       "      <td>0.0</td>\n",
       "      <td>0.0</td>\n",
       "      <td>0.0</td>\n",
       "      <td>0.0</td>\n",
       "      <td>0.0</td>\n",
       "      <td>0.0</td>\n",
       "      <td>0.0</td>\n",
       "      <td>0.0</td>\n",
       "      <td>0.0</td>\n",
       "    </tr>\n",
       "    <tr>\n",
       "      <th>gang</th>\n",
       "      <td>0.0</td>\n",
       "      <td>0.0</td>\n",
       "      <td>0.0</td>\n",
       "      <td>0.0</td>\n",
       "      <td>0.0</td>\n",
       "      <td>0.0</td>\n",
       "      <td>0.0</td>\n",
       "      <td>0.0</td>\n",
       "      <td>0.0</td>\n",
       "      <td>0.0</td>\n",
       "      <td>0.0</td>\n",
       "      <td>0.0</td>\n",
       "    </tr>\n",
       "    <tr>\n",
       "      <th>powerlifting</th>\n",
       "      <td>0.0</td>\n",
       "      <td>0.0</td>\n",
       "      <td>0.0</td>\n",
       "      <td>0.0</td>\n",
       "      <td>0.0</td>\n",
       "      <td>0.0</td>\n",
       "      <td>0.0</td>\n",
       "      <td>0.0</td>\n",
       "      <td>0.0</td>\n",
       "      <td>0.0</td>\n",
       "      <td>0.0</td>\n",
       "      <td>0.0</td>\n",
       "    </tr>\n",
       "    <tr>\n",
       "      <th>apps</th>\n",
       "      <td>0.0</td>\n",
       "      <td>0.0</td>\n",
       "      <td>0.0</td>\n",
       "      <td>0.0</td>\n",
       "      <td>0.0</td>\n",
       "      <td>0.0</td>\n",
       "      <td>0.0</td>\n",
       "      <td>0.0</td>\n",
       "      <td>0.0</td>\n",
       "      <td>0.0</td>\n",
       "      <td>0.0</td>\n",
       "      <td>0.0</td>\n",
       "    </tr>\n",
       "    <tr>\n",
       "      <th>deadlift</th>\n",
       "      <td>0.0</td>\n",
       "      <td>0.0</td>\n",
       "      <td>0.0</td>\n",
       "      <td>0.0</td>\n",
       "      <td>0.0</td>\n",
       "      <td>0.0</td>\n",
       "      <td>0.0</td>\n",
       "      <td>0.0</td>\n",
       "      <td>0.0</td>\n",
       "      <td>0.0</td>\n",
       "      <td>0.0</td>\n",
       "      <td>0.0</td>\n",
       "    </tr>\n",
       "    <tr>\n",
       "      <th>squat</th>\n",
       "      <td>0.0</td>\n",
       "      <td>0.0</td>\n",
       "      <td>0.0</td>\n",
       "      <td>0.0</td>\n",
       "      <td>0.0</td>\n",
       "      <td>0.0</td>\n",
       "      <td>0.0</td>\n",
       "      <td>0.0</td>\n",
       "      <td>0.0</td>\n",
       "      <td>0.0</td>\n",
       "      <td>0.0</td>\n",
       "      <td>0.0</td>\n",
       "    </tr>\n",
       "    <tr>\n",
       "      <th>bench</th>\n",
       "      <td>0.0</td>\n",
       "      <td>0.0</td>\n",
       "      <td>0.0</td>\n",
       "      <td>0.0</td>\n",
       "      <td>0.0</td>\n",
       "      <td>0.0</td>\n",
       "      <td>0.0</td>\n",
       "      <td>0.0</td>\n",
       "      <td>0.0</td>\n",
       "      <td>0.0</td>\n",
       "      <td>0.0</td>\n",
       "      <td>0.0</td>\n",
       "    </tr>\n",
       "    <tr>\n",
       "      <th>press</th>\n",
       "      <td>0.0</td>\n",
       "      <td>0.0</td>\n",
       "      <td>0.0</td>\n",
       "      <td>0.0</td>\n",
       "      <td>0.0</td>\n",
       "      <td>0.0</td>\n",
       "      <td>0.0</td>\n",
       "      <td>0.0</td>\n",
       "      <td>0.0</td>\n",
       "      <td>0.0</td>\n",
       "      <td>0.0</td>\n",
       "      <td>0.0</td>\n",
       "    </tr>\n",
       "    <tr>\n",
       "      <th>upgrade</th>\n",
       "      <td>0.0</td>\n",
       "      <td>0.0</td>\n",
       "      <td>0.0</td>\n",
       "      <td>0.0</td>\n",
       "      <td>0.0</td>\n",
       "      <td>0.0</td>\n",
       "      <td>0.0</td>\n",
       "      <td>0.0</td>\n",
       "      <td>0.0</td>\n",
       "      <td>0.0</td>\n",
       "      <td>0.0</td>\n",
       "      <td>0.0</td>\n",
       "    </tr>\n",
       "    <tr>\n",
       "      <th>try</th>\n",
       "      <td>0.0</td>\n",
       "      <td>0.0</td>\n",
       "      <td>0.0</td>\n",
       "      <td>0.0</td>\n",
       "      <td>0.0</td>\n",
       "      <td>0.0</td>\n",
       "      <td>0.0</td>\n",
       "      <td>0.0</td>\n",
       "      <td>0.0</td>\n",
       "      <td>0.0</td>\n",
       "      <td>0.0</td>\n",
       "      <td>0.0</td>\n",
       "    </tr>\n",
       "    <tr>\n",
       "      <th>right</th>\n",
       "      <td>0.0</td>\n",
       "      <td>0.0</td>\n",
       "      <td>0.0</td>\n",
       "      <td>0.0</td>\n",
       "      <td>0.0</td>\n",
       "      <td>0.0</td>\n",
       "      <td>0.0</td>\n",
       "      <td>0.0</td>\n",
       "      <td>0.0</td>\n",
       "      <td>0.0</td>\n",
       "      <td>0.0</td>\n",
       "      <td>0.0</td>\n",
       "    </tr>\n",
       "  </tbody>\n",
       "</table>\n",
       "</div>"
      ],
      "text/plain": [
       "              power  chae  gang  powerlifting  apps  deadlift  squat  bench  \\\n",
       "power           0.0   0.0   0.0           0.0   0.0       0.0    0.0    0.0   \n",
       "chae            0.0   0.0   0.0           0.0   0.0       0.0    0.0    0.0   \n",
       "gang            0.0   0.0   0.0           0.0   0.0       0.0    0.0    0.0   \n",
       "powerlifting    0.0   0.0   0.0           0.0   0.0       0.0    0.0    0.0   \n",
       "apps            0.0   0.0   0.0           0.0   0.0       0.0    0.0    0.0   \n",
       "deadlift        0.0   0.0   0.0           0.0   0.0       0.0    0.0    0.0   \n",
       "squat           0.0   0.0   0.0           0.0   0.0       0.0    0.0    0.0   \n",
       "bench           0.0   0.0   0.0           0.0   0.0       0.0    0.0    0.0   \n",
       "press           0.0   0.0   0.0           0.0   0.0       0.0    0.0    0.0   \n",
       "upgrade         0.0   0.0   0.0           0.0   0.0       0.0    0.0    0.0   \n",
       "try             0.0   0.0   0.0           0.0   0.0       0.0    0.0    0.0   \n",
       "right           0.0   0.0   0.0           0.0   0.0       0.0    0.0    0.0   \n",
       "\n",
       "              press  upgrade  try  right  \n",
       "power           0.0      0.0  0.0    0.0  \n",
       "chae            0.0      0.0  0.0    0.0  \n",
       "gang            0.0      0.0  0.0    0.0  \n",
       "powerlifting    0.0      0.0  0.0    0.0  \n",
       "apps            0.0      0.0  0.0    0.0  \n",
       "deadlift        0.0      0.0  0.0    0.0  \n",
       "squat           0.0      0.0  0.0    0.0  \n",
       "bench           0.0      0.0  0.0    0.0  \n",
       "press           0.0      0.0  0.0    0.0  \n",
       "upgrade         0.0      0.0  0.0    0.0  \n",
       "try             0.0      0.0  0.0    0.0  \n",
       "right           0.0      0.0  0.0    0.0  "
      ]
     },
     "execution_count": 61,
     "metadata": {},
     "output_type": "execute_result"
    }
   ],
   "source": [
    "node"
   ]
  },
  {
   "cell_type": "markdown",
   "metadata": {},
   "source": [
    "## dataframe.loc = Attribute ! 메소드 아님!\n",
    "Access a group of rows and columns by label(s) or a boolean array.\n",
    "\n",
    "A single label, e.g. 5 or 'a', (note that 5 is interpreted as a label of the index, and never as an integer position along the index).\n",
    "\n",
    "A list or array of labels, e.g. ['a', 'b', 'c'].\n",
    "\n",
    "A slice object with labels, e.g. 'a':'f'."
   ]
  },
  {
   "cell_type": "code",
   "execution_count": 62,
   "metadata": {},
   "outputs": [
    {
     "data": {
      "text/html": [
       "<div>\n",
       "<style scoped>\n",
       "    .dataframe tbody tr th:only-of-type {\n",
       "        vertical-align: middle;\n",
       "    }\n",
       "\n",
       "    .dataframe tbody tr th {\n",
       "        vertical-align: top;\n",
       "    }\n",
       "\n",
       "    .dataframe thead th {\n",
       "        text-align: right;\n",
       "    }\n",
       "</style>\n",
       "<table border=\"1\" class=\"dataframe\">\n",
       "  <thead>\n",
       "    <tr style=\"text-align: right;\">\n",
       "      <th></th>\n",
       "      <th>id</th>\n",
       "      <th>track_name</th>\n",
       "      <th>size_bytes</th>\n",
       "      <th>app_desc</th>\n",
       "      <th>App_token</th>\n",
       "    </tr>\n",
       "  </thead>\n",
       "  <tbody>\n",
       "    <tr>\n",
       "      <th>0</th>\n",
       "      <td>281656475</td>\n",
       "      <td>PAC-MAN Premium</td>\n",
       "      <td>100788224</td>\n",
       "      <td>SAVE 20%, now only $3.99 for a limited time!\\n...</td>\n",
       "      <td>power</td>\n",
       "    </tr>\n",
       "    <tr>\n",
       "      <th>1</th>\n",
       "      <td>281796108</td>\n",
       "      <td>Evernote - stay organized</td>\n",
       "      <td>158578688</td>\n",
       "      <td>Let Evernote change the way you organize your ...</td>\n",
       "      <td>NaN</td>\n",
       "    </tr>\n",
       "    <tr>\n",
       "      <th>2</th>\n",
       "      <td>281940292</td>\n",
       "      <td>WeatherBug - Local Weather, Radar, Maps, Alerts</td>\n",
       "      <td>100524032</td>\n",
       "      <td>Download the most popular free weather app pow...</td>\n",
       "      <td>NaN</td>\n",
       "    </tr>\n",
       "    <tr>\n",
       "      <th>3</th>\n",
       "      <td>282614216</td>\n",
       "      <td>eBay: Best App to Buy, Sell, Save! Online Shop...</td>\n",
       "      <td>128512000</td>\n",
       "      <td>The eBay app is the best way to find anything ...</td>\n",
       "      <td>NaN</td>\n",
       "    </tr>\n",
       "    <tr>\n",
       "      <th>4</th>\n",
       "      <td>282935706</td>\n",
       "      <td>Bible</td>\n",
       "      <td>92774400</td>\n",
       "      <td>On more than 250 million devices around the wo...</td>\n",
       "      <td>NaN</td>\n",
       "    </tr>\n",
       "  </tbody>\n",
       "</table>\n",
       "</div>"
      ],
      "text/plain": [
       "          id                                         track_name  size_bytes  \\\n",
       "0  281656475                                    PAC-MAN Premium   100788224   \n",
       "1  281796108                          Evernote - stay organized   158578688   \n",
       "2  281940292    WeatherBug - Local Weather, Radar, Maps, Alerts   100524032   \n",
       "3  282614216  eBay: Best App to Buy, Sell, Save! Online Shop...   128512000   \n",
       "4  282935706                                              Bible    92774400   \n",
       "\n",
       "                                            app_desc App_token  \n",
       "0  SAVE 20%, now only $3.99 for a limited time!\\n...     power  \n",
       "1  Let Evernote change the way you organize your ...       NaN  \n",
       "2  Download the most popular free weather app pow...       NaN  \n",
       "3  The eBay app is the best way to find anything ...       NaN  \n",
       "4  On more than 250 million devices around the wo...       NaN  "
      ]
     },
     "execution_count": 62,
     "metadata": {},
     "output_type": "execute_result"
    }
   ],
   "source": [
    "df.head()"
   ]
  },
  {
   "cell_type": "markdown",
   "metadata": {},
   "source": [
    "## 현호 꺼는 Rating이라는 값이 있어서 이걸로 했는데\n",
    "나는 새로운 가중치 해야함\n",
    "여기에는 rating값이 없다\n"
   ]
  },
  {
   "cell_type": "code",
   "execution_count": 63,
   "metadata": {},
   "outputs": [],
   "source": [
    "for m in tags:\n",
    "    for n in tags:\n",
    "        if(m!=n):\n",
    "            node[m][n] = node[m][n]+(4.1)"
   ]
  },
  {
   "cell_type": "code",
   "execution_count": 64,
   "metadata": {},
   "outputs": [
    {
     "data": {
      "text/html": [
       "<div>\n",
       "<style scoped>\n",
       "    .dataframe tbody tr th:only-of-type {\n",
       "        vertical-align: middle;\n",
       "    }\n",
       "\n",
       "    .dataframe tbody tr th {\n",
       "        vertical-align: top;\n",
       "    }\n",
       "\n",
       "    .dataframe thead th {\n",
       "        text-align: right;\n",
       "    }\n",
       "</style>\n",
       "<table border=\"1\" class=\"dataframe\">\n",
       "  <thead>\n",
       "    <tr style=\"text-align: right;\">\n",
       "      <th></th>\n",
       "      <th>power</th>\n",
       "      <th>chae</th>\n",
       "      <th>gang</th>\n",
       "      <th>powerlifting</th>\n",
       "      <th>apps</th>\n",
       "      <th>deadlift</th>\n",
       "      <th>squat</th>\n",
       "      <th>bench</th>\n",
       "      <th>press</th>\n",
       "      <th>upgrade</th>\n",
       "      <th>try</th>\n",
       "      <th>right</th>\n",
       "    </tr>\n",
       "  </thead>\n",
       "  <tbody>\n",
       "    <tr>\n",
       "      <th>power</th>\n",
       "      <td>0.0</td>\n",
       "      <td>4.1</td>\n",
       "      <td>4.1</td>\n",
       "      <td>4.1</td>\n",
       "      <td>4.1</td>\n",
       "      <td>4.1</td>\n",
       "      <td>4.1</td>\n",
       "      <td>4.1</td>\n",
       "      <td>4.1</td>\n",
       "      <td>4.1</td>\n",
       "      <td>4.1</td>\n",
       "      <td>4.1</td>\n",
       "    </tr>\n",
       "    <tr>\n",
       "      <th>chae</th>\n",
       "      <td>4.1</td>\n",
       "      <td>0.0</td>\n",
       "      <td>4.1</td>\n",
       "      <td>4.1</td>\n",
       "      <td>4.1</td>\n",
       "      <td>4.1</td>\n",
       "      <td>4.1</td>\n",
       "      <td>4.1</td>\n",
       "      <td>4.1</td>\n",
       "      <td>4.1</td>\n",
       "      <td>4.1</td>\n",
       "      <td>4.1</td>\n",
       "    </tr>\n",
       "    <tr>\n",
       "      <th>gang</th>\n",
       "      <td>4.1</td>\n",
       "      <td>4.1</td>\n",
       "      <td>0.0</td>\n",
       "      <td>4.1</td>\n",
       "      <td>4.1</td>\n",
       "      <td>4.1</td>\n",
       "      <td>4.1</td>\n",
       "      <td>4.1</td>\n",
       "      <td>4.1</td>\n",
       "      <td>4.1</td>\n",
       "      <td>4.1</td>\n",
       "      <td>4.1</td>\n",
       "    </tr>\n",
       "    <tr>\n",
       "      <th>powerlifting</th>\n",
       "      <td>4.1</td>\n",
       "      <td>4.1</td>\n",
       "      <td>4.1</td>\n",
       "      <td>0.0</td>\n",
       "      <td>4.1</td>\n",
       "      <td>4.1</td>\n",
       "      <td>4.1</td>\n",
       "      <td>4.1</td>\n",
       "      <td>4.1</td>\n",
       "      <td>4.1</td>\n",
       "      <td>4.1</td>\n",
       "      <td>4.1</td>\n",
       "    </tr>\n",
       "    <tr>\n",
       "      <th>apps</th>\n",
       "      <td>4.1</td>\n",
       "      <td>4.1</td>\n",
       "      <td>4.1</td>\n",
       "      <td>4.1</td>\n",
       "      <td>0.0</td>\n",
       "      <td>4.1</td>\n",
       "      <td>4.1</td>\n",
       "      <td>4.1</td>\n",
       "      <td>4.1</td>\n",
       "      <td>4.1</td>\n",
       "      <td>4.1</td>\n",
       "      <td>4.1</td>\n",
       "    </tr>\n",
       "    <tr>\n",
       "      <th>deadlift</th>\n",
       "      <td>4.1</td>\n",
       "      <td>4.1</td>\n",
       "      <td>4.1</td>\n",
       "      <td>4.1</td>\n",
       "      <td>4.1</td>\n",
       "      <td>0.0</td>\n",
       "      <td>4.1</td>\n",
       "      <td>4.1</td>\n",
       "      <td>4.1</td>\n",
       "      <td>4.1</td>\n",
       "      <td>4.1</td>\n",
       "      <td>4.1</td>\n",
       "    </tr>\n",
       "    <tr>\n",
       "      <th>squat</th>\n",
       "      <td>4.1</td>\n",
       "      <td>4.1</td>\n",
       "      <td>4.1</td>\n",
       "      <td>4.1</td>\n",
       "      <td>4.1</td>\n",
       "      <td>4.1</td>\n",
       "      <td>0.0</td>\n",
       "      <td>4.1</td>\n",
       "      <td>4.1</td>\n",
       "      <td>4.1</td>\n",
       "      <td>4.1</td>\n",
       "      <td>4.1</td>\n",
       "    </tr>\n",
       "    <tr>\n",
       "      <th>bench</th>\n",
       "      <td>4.1</td>\n",
       "      <td>4.1</td>\n",
       "      <td>4.1</td>\n",
       "      <td>4.1</td>\n",
       "      <td>4.1</td>\n",
       "      <td>4.1</td>\n",
       "      <td>4.1</td>\n",
       "      <td>0.0</td>\n",
       "      <td>4.1</td>\n",
       "      <td>4.1</td>\n",
       "      <td>4.1</td>\n",
       "      <td>4.1</td>\n",
       "    </tr>\n",
       "    <tr>\n",
       "      <th>press</th>\n",
       "      <td>4.1</td>\n",
       "      <td>4.1</td>\n",
       "      <td>4.1</td>\n",
       "      <td>4.1</td>\n",
       "      <td>4.1</td>\n",
       "      <td>4.1</td>\n",
       "      <td>4.1</td>\n",
       "      <td>4.1</td>\n",
       "      <td>0.0</td>\n",
       "      <td>4.1</td>\n",
       "      <td>4.1</td>\n",
       "      <td>4.1</td>\n",
       "    </tr>\n",
       "    <tr>\n",
       "      <th>upgrade</th>\n",
       "      <td>4.1</td>\n",
       "      <td>4.1</td>\n",
       "      <td>4.1</td>\n",
       "      <td>4.1</td>\n",
       "      <td>4.1</td>\n",
       "      <td>4.1</td>\n",
       "      <td>4.1</td>\n",
       "      <td>4.1</td>\n",
       "      <td>4.1</td>\n",
       "      <td>0.0</td>\n",
       "      <td>4.1</td>\n",
       "      <td>4.1</td>\n",
       "    </tr>\n",
       "    <tr>\n",
       "      <th>try</th>\n",
       "      <td>4.1</td>\n",
       "      <td>4.1</td>\n",
       "      <td>4.1</td>\n",
       "      <td>4.1</td>\n",
       "      <td>4.1</td>\n",
       "      <td>4.1</td>\n",
       "      <td>4.1</td>\n",
       "      <td>4.1</td>\n",
       "      <td>4.1</td>\n",
       "      <td>4.1</td>\n",
       "      <td>0.0</td>\n",
       "      <td>4.1</td>\n",
       "    </tr>\n",
       "    <tr>\n",
       "      <th>right</th>\n",
       "      <td>4.1</td>\n",
       "      <td>4.1</td>\n",
       "      <td>4.1</td>\n",
       "      <td>4.1</td>\n",
       "      <td>4.1</td>\n",
       "      <td>4.1</td>\n",
       "      <td>4.1</td>\n",
       "      <td>4.1</td>\n",
       "      <td>4.1</td>\n",
       "      <td>4.1</td>\n",
       "      <td>4.1</td>\n",
       "      <td>0.0</td>\n",
       "    </tr>\n",
       "  </tbody>\n",
       "</table>\n",
       "</div>"
      ],
      "text/plain": [
       "              power  chae  gang  powerlifting  apps  deadlift  squat  bench  \\\n",
       "power           0.0   4.1   4.1           4.1   4.1       4.1    4.1    4.1   \n",
       "chae            4.1   0.0   4.1           4.1   4.1       4.1    4.1    4.1   \n",
       "gang            4.1   4.1   0.0           4.1   4.1       4.1    4.1    4.1   \n",
       "powerlifting    4.1   4.1   4.1           0.0   4.1       4.1    4.1    4.1   \n",
       "apps            4.1   4.1   4.1           4.1   0.0       4.1    4.1    4.1   \n",
       "deadlift        4.1   4.1   4.1           4.1   4.1       0.0    4.1    4.1   \n",
       "squat           4.1   4.1   4.1           4.1   4.1       4.1    0.0    4.1   \n",
       "bench           4.1   4.1   4.1           4.1   4.1       4.1    4.1    0.0   \n",
       "press           4.1   4.1   4.1           4.1   4.1       4.1    4.1    4.1   \n",
       "upgrade         4.1   4.1   4.1           4.1   4.1       4.1    4.1    4.1   \n",
       "try             4.1   4.1   4.1           4.1   4.1       4.1    4.1    4.1   \n",
       "right           4.1   4.1   4.1           4.1   4.1       4.1    4.1    4.1   \n",
       "\n",
       "              press  upgrade  try  right  \n",
       "power           4.1      4.1  4.1    4.1  \n",
       "chae            4.1      4.1  4.1    4.1  \n",
       "gang            4.1      4.1  4.1    4.1  \n",
       "powerlifting    4.1      4.1  4.1    4.1  \n",
       "apps            4.1      4.1  4.1    4.1  \n",
       "deadlift        4.1      4.1  4.1    4.1  \n",
       "squat           4.1      4.1  4.1    4.1  \n",
       "bench           4.1      4.1  4.1    4.1  \n",
       "press           0.0      4.1  4.1    4.1  \n",
       "upgrade         4.1      0.0  4.1    4.1  \n",
       "try             4.1      4.1  0.0    4.1  \n",
       "right           4.1      4.1  4.1    0.0  "
      ]
     },
     "execution_count": 64,
     "metadata": {},
     "output_type": "execute_result"
    }
   ],
   "source": [
    "node"
   ]
  },
  {
   "cell_type": "code",
   "execution_count": 65,
   "metadata": {},
   "outputs": [
    {
     "name": "stdout",
     "output_type": "stream",
     "text": [
      "tag\n",
      "tag\n",
      "tag\n",
      "tag\n",
      "tag\n",
      "tag\n",
      "tag\n",
      "tag\n",
      "tag\n",
      "tag\n",
      "tag\n",
      "tag\n"
     ]
    }
   ],
   "source": [
    "for n,c in tag_dics:\n",
    "    print(n)"
   ]
  },
  {
   "cell_type": "code",
   "execution_count": null,
   "metadata": {},
   "outputs": [],
   "source": []
  }
 ],
 "metadata": {
  "kernelspec": {
   "display_name": "Python 3",
   "language": "python",
   "name": "python3"
  },
  "language_info": {
   "codemirror_mode": {
    "name": "ipython",
    "version": 3
   },
   "file_extension": ".py",
   "mimetype": "text/x-python",
   "name": "python",
   "nbconvert_exporter": "python",
   "pygments_lexer": "ipython3",
   "version": "3.7.3"
  }
 },
 "nbformat": 4,
 "nbformat_minor": 2
}
